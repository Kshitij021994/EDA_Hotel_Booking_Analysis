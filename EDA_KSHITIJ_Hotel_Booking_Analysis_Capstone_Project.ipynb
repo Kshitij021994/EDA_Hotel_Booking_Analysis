{
  "nbformat": 4,
  "nbformat_minor": 0,
  "metadata": {
    "kernelspec": {
      "display_name": "Python 3",
      "language": "python",
      "name": "python3"
    },
    "language_info": {
      "codemirror_mode": {
        "name": "ipython",
        "version": 3
      },
      "file_extension": ".py",
      "mimetype": "text/x-python",
      "name": "python",
      "nbconvert_exporter": "python",
      "pygments_lexer": "ipython3",
      "version": "3.6.6"
    },
    "colab": {
      "provenance": [],
      "collapsed_sections": [],
      "include_colab_link": true
    }
  },
  "cells": [
    {
      "cell_type": "markdown",
      "metadata": {
        "id": "view-in-github",
        "colab_type": "text"
      },
      "source": [
        "<a href=\"https://colab.research.google.com/github/Kshitij021994/EDA_Hotel_Booking_Analysis/blob/main/EDA_KSHITIJ_Hotel_Booking_Analysis_Capstone_Project.ipynb\" target=\"_parent\"><img src=\"https://colab.research.google.com/assets/colab-badge.svg\" alt=\"Open In Colab\"/></a>"
      ]
    },
    {
      "cell_type": "markdown",
      "metadata": {
        "id": "Y06xIdG26kRF"
      },
      "source": [
        "## <b> Have you ever wondered when the best time of year to book a hotel room is? Or the optimal length of stay in order to get the best daily rate? What if you wanted to predict whether or not a hotel was likely to receive a disproportionately high number of special requests? This hotel booking dataset can help you explore those questions!\n",
        "\n",
        "## <b>This data set contains booking information for a city hotel and a resort hotel, and includes information such as when the booking was made, length of stay, the number of adults, children, and/or babies, and the number of available parking spaces, among other things. All personally identifying information has been removed from the data. </b>\n",
        "\n",
        "## <b> Explore and analyze the data to discover important factors that govern the bookings. </b>"
      ]
    },
    {
      "cell_type": "code",
      "metadata": {
        "id": "dByMsuzT8Tnw"
      },
      "source": [
        "import numpy as np\n",
        "import pandas as pd\n",
        "import matplotlib.pyplot as plt\n",
        "import seaborn as sns"
      ],
      "execution_count": null,
      "outputs": []
    },
    {
      "cell_type": "code",
      "source": [
        "from google.colab import drive\n",
        "drive.mount('/content/drive')"
      ],
      "metadata": {
        "colab": {
          "base_uri": "https://localhost:8080/"
        },
        "id": "MBADP7vVfvK6",
        "outputId": "4637c92d-84bd-4a77-ba96-76ff80ea45e9"
      },
      "execution_count": null,
      "outputs": [
        {
          "output_type": "stream",
          "name": "stdout",
          "text": [
            "Mounted at /content/drive\n"
          ]
        }
      ]
    },
    {
      "cell_type": "code",
      "source": [
        "hb = pd.read_csv(\"/content/drive/MyDrive/ALMABETTER/PROJECTS/CAPSTONE PROJECTS/1.EDA/1.EDA_HOTEL/hb.csv\")"
      ],
      "metadata": {
        "id": "YWdhrnhf9MN1"
      },
      "execution_count": null,
      "outputs": []
    },
    {
      "cell_type": "code",
      "source": [
        "hb.head()"
      ],
      "metadata": {
        "id": "bXyH2S8_FK66",
        "outputId": "1b6495b0-5f6d-4f68-f8a0-8d62051ce873",
        "colab": {
          "base_uri": "https://localhost:8080/",
          "height": 386
        }
      },
      "execution_count": null,
      "outputs": [
        {
          "output_type": "execute_result",
          "data": {
            "text/plain": [
              "          hotel  is_canceled  lead_time  arrival_date_year arrival_date_month  \\\n",
              "0  Resort Hotel            0        342               2015               July   \n",
              "1  Resort Hotel            0        737               2015               July   \n",
              "2  Resort Hotel            0          7               2015               July   \n",
              "3  Resort Hotel            0         13               2015               July   \n",
              "4  Resort Hotel            0         14               2015               July   \n",
              "\n",
              "   arrival_date_week_number  arrival_date_day_of_month  \\\n",
              "0                        27                          1   \n",
              "1                        27                          1   \n",
              "2                        27                          1   \n",
              "3                        27                          1   \n",
              "4                        27                          1   \n",
              "\n",
              "   stays_in_weekend_nights  stays_in_week_nights  adults  ...  deposit_type  \\\n",
              "0                        0                     0       2  ...    No Deposit   \n",
              "1                        0                     0       2  ...    No Deposit   \n",
              "2                        0                     1       1  ...    No Deposit   \n",
              "3                        0                     1       1  ...    No Deposit   \n",
              "4                        0                     2       2  ...    No Deposit   \n",
              "\n",
              "   agent company days_in_waiting_list customer_type   adr  \\\n",
              "0    NaN     NaN                    0     Transient   0.0   \n",
              "1    NaN     NaN                    0     Transient   0.0   \n",
              "2    NaN     NaN                    0     Transient  75.0   \n",
              "3  304.0     NaN                    0     Transient  75.0   \n",
              "4  240.0     NaN                    0     Transient  98.0   \n",
              "\n",
              "   required_car_parking_spaces  total_of_special_requests  reservation_status  \\\n",
              "0                            0                          0           Check-Out   \n",
              "1                            0                          0           Check-Out   \n",
              "2                            0                          0           Check-Out   \n",
              "3                            0                          0           Check-Out   \n",
              "4                            0                          1           Check-Out   \n",
              "\n",
              "  reservation_status_date  \n",
              "0              2015-07-01  \n",
              "1              2015-07-01  \n",
              "2              2015-07-02  \n",
              "3              2015-07-02  \n",
              "4              2015-07-03  \n",
              "\n",
              "[5 rows x 32 columns]"
            ],
            "text/html": [
              "\n",
              "  <div id=\"df-77ed3d1c-61f5-4622-a786-b86867318754\">\n",
              "    <div class=\"colab-df-container\">\n",
              "      <div>\n",
              "<style scoped>\n",
              "    .dataframe tbody tr th:only-of-type {\n",
              "        vertical-align: middle;\n",
              "    }\n",
              "\n",
              "    .dataframe tbody tr th {\n",
              "        vertical-align: top;\n",
              "    }\n",
              "\n",
              "    .dataframe thead th {\n",
              "        text-align: right;\n",
              "    }\n",
              "</style>\n",
              "<table border=\"1\" class=\"dataframe\">\n",
              "  <thead>\n",
              "    <tr style=\"text-align: right;\">\n",
              "      <th></th>\n",
              "      <th>hotel</th>\n",
              "      <th>is_canceled</th>\n",
              "      <th>lead_time</th>\n",
              "      <th>arrival_date_year</th>\n",
              "      <th>arrival_date_month</th>\n",
              "      <th>arrival_date_week_number</th>\n",
              "      <th>arrival_date_day_of_month</th>\n",
              "      <th>stays_in_weekend_nights</th>\n",
              "      <th>stays_in_week_nights</th>\n",
              "      <th>adults</th>\n",
              "      <th>...</th>\n",
              "      <th>deposit_type</th>\n",
              "      <th>agent</th>\n",
              "      <th>company</th>\n",
              "      <th>days_in_waiting_list</th>\n",
              "      <th>customer_type</th>\n",
              "      <th>adr</th>\n",
              "      <th>required_car_parking_spaces</th>\n",
              "      <th>total_of_special_requests</th>\n",
              "      <th>reservation_status</th>\n",
              "      <th>reservation_status_date</th>\n",
              "    </tr>\n",
              "  </thead>\n",
              "  <tbody>\n",
              "    <tr>\n",
              "      <th>0</th>\n",
              "      <td>Resort Hotel</td>\n",
              "      <td>0</td>\n",
              "      <td>342</td>\n",
              "      <td>2015</td>\n",
              "      <td>July</td>\n",
              "      <td>27</td>\n",
              "      <td>1</td>\n",
              "      <td>0</td>\n",
              "      <td>0</td>\n",
              "      <td>2</td>\n",
              "      <td>...</td>\n",
              "      <td>No Deposit</td>\n",
              "      <td>NaN</td>\n",
              "      <td>NaN</td>\n",
              "      <td>0</td>\n",
              "      <td>Transient</td>\n",
              "      <td>0.0</td>\n",
              "      <td>0</td>\n",
              "      <td>0</td>\n",
              "      <td>Check-Out</td>\n",
              "      <td>2015-07-01</td>\n",
              "    </tr>\n",
              "    <tr>\n",
              "      <th>1</th>\n",
              "      <td>Resort Hotel</td>\n",
              "      <td>0</td>\n",
              "      <td>737</td>\n",
              "      <td>2015</td>\n",
              "      <td>July</td>\n",
              "      <td>27</td>\n",
              "      <td>1</td>\n",
              "      <td>0</td>\n",
              "      <td>0</td>\n",
              "      <td>2</td>\n",
              "      <td>...</td>\n",
              "      <td>No Deposit</td>\n",
              "      <td>NaN</td>\n",
              "      <td>NaN</td>\n",
              "      <td>0</td>\n",
              "      <td>Transient</td>\n",
              "      <td>0.0</td>\n",
              "      <td>0</td>\n",
              "      <td>0</td>\n",
              "      <td>Check-Out</td>\n",
              "      <td>2015-07-01</td>\n",
              "    </tr>\n",
              "    <tr>\n",
              "      <th>2</th>\n",
              "      <td>Resort Hotel</td>\n",
              "      <td>0</td>\n",
              "      <td>7</td>\n",
              "      <td>2015</td>\n",
              "      <td>July</td>\n",
              "      <td>27</td>\n",
              "      <td>1</td>\n",
              "      <td>0</td>\n",
              "      <td>1</td>\n",
              "      <td>1</td>\n",
              "      <td>...</td>\n",
              "      <td>No Deposit</td>\n",
              "      <td>NaN</td>\n",
              "      <td>NaN</td>\n",
              "      <td>0</td>\n",
              "      <td>Transient</td>\n",
              "      <td>75.0</td>\n",
              "      <td>0</td>\n",
              "      <td>0</td>\n",
              "      <td>Check-Out</td>\n",
              "      <td>2015-07-02</td>\n",
              "    </tr>\n",
              "    <tr>\n",
              "      <th>3</th>\n",
              "      <td>Resort Hotel</td>\n",
              "      <td>0</td>\n",
              "      <td>13</td>\n",
              "      <td>2015</td>\n",
              "      <td>July</td>\n",
              "      <td>27</td>\n",
              "      <td>1</td>\n",
              "      <td>0</td>\n",
              "      <td>1</td>\n",
              "      <td>1</td>\n",
              "      <td>...</td>\n",
              "      <td>No Deposit</td>\n",
              "      <td>304.0</td>\n",
              "      <td>NaN</td>\n",
              "      <td>0</td>\n",
              "      <td>Transient</td>\n",
              "      <td>75.0</td>\n",
              "      <td>0</td>\n",
              "      <td>0</td>\n",
              "      <td>Check-Out</td>\n",
              "      <td>2015-07-02</td>\n",
              "    </tr>\n",
              "    <tr>\n",
              "      <th>4</th>\n",
              "      <td>Resort Hotel</td>\n",
              "      <td>0</td>\n",
              "      <td>14</td>\n",
              "      <td>2015</td>\n",
              "      <td>July</td>\n",
              "      <td>27</td>\n",
              "      <td>1</td>\n",
              "      <td>0</td>\n",
              "      <td>2</td>\n",
              "      <td>2</td>\n",
              "      <td>...</td>\n",
              "      <td>No Deposit</td>\n",
              "      <td>240.0</td>\n",
              "      <td>NaN</td>\n",
              "      <td>0</td>\n",
              "      <td>Transient</td>\n",
              "      <td>98.0</td>\n",
              "      <td>0</td>\n",
              "      <td>1</td>\n",
              "      <td>Check-Out</td>\n",
              "      <td>2015-07-03</td>\n",
              "    </tr>\n",
              "  </tbody>\n",
              "</table>\n",
              "<p>5 rows × 32 columns</p>\n",
              "</div>\n",
              "      <button class=\"colab-df-convert\" onclick=\"convertToInteractive('df-77ed3d1c-61f5-4622-a786-b86867318754')\"\n",
              "              title=\"Convert this dataframe to an interactive table.\"\n",
              "              style=\"display:none;\">\n",
              "        \n",
              "  <svg xmlns=\"http://www.w3.org/2000/svg\" height=\"24px\"viewBox=\"0 0 24 24\"\n",
              "       width=\"24px\">\n",
              "    <path d=\"M0 0h24v24H0V0z\" fill=\"none\"/>\n",
              "    <path d=\"M18.56 5.44l.94 2.06.94-2.06 2.06-.94-2.06-.94-.94-2.06-.94 2.06-2.06.94zm-11 1L8.5 8.5l.94-2.06 2.06-.94-2.06-.94L8.5 2.5l-.94 2.06-2.06.94zm10 10l.94 2.06.94-2.06 2.06-.94-2.06-.94-.94-2.06-.94 2.06-2.06.94z\"/><path d=\"M17.41 7.96l-1.37-1.37c-.4-.4-.92-.59-1.43-.59-.52 0-1.04.2-1.43.59L10.3 9.45l-7.72 7.72c-.78.78-.78 2.05 0 2.83L4 21.41c.39.39.9.59 1.41.59.51 0 1.02-.2 1.41-.59l7.78-7.78 2.81-2.81c.8-.78.8-2.07 0-2.86zM5.41 20L4 18.59l7.72-7.72 1.47 1.35L5.41 20z\"/>\n",
              "  </svg>\n",
              "      </button>\n",
              "      \n",
              "  <style>\n",
              "    .colab-df-container {\n",
              "      display:flex;\n",
              "      flex-wrap:wrap;\n",
              "      gap: 12px;\n",
              "    }\n",
              "\n",
              "    .colab-df-convert {\n",
              "      background-color: #E8F0FE;\n",
              "      border: none;\n",
              "      border-radius: 50%;\n",
              "      cursor: pointer;\n",
              "      display: none;\n",
              "      fill: #1967D2;\n",
              "      height: 32px;\n",
              "      padding: 0 0 0 0;\n",
              "      width: 32px;\n",
              "    }\n",
              "\n",
              "    .colab-df-convert:hover {\n",
              "      background-color: #E2EBFA;\n",
              "      box-shadow: 0px 1px 2px rgba(60, 64, 67, 0.3), 0px 1px 3px 1px rgba(60, 64, 67, 0.15);\n",
              "      fill: #174EA6;\n",
              "    }\n",
              "\n",
              "    [theme=dark] .colab-df-convert {\n",
              "      background-color: #3B4455;\n",
              "      fill: #D2E3FC;\n",
              "    }\n",
              "\n",
              "    [theme=dark] .colab-df-convert:hover {\n",
              "      background-color: #434B5C;\n",
              "      box-shadow: 0px 1px 3px 1px rgba(0, 0, 0, 0.15);\n",
              "      filter: drop-shadow(0px 1px 2px rgba(0, 0, 0, 0.3));\n",
              "      fill: #FFFFFF;\n",
              "    }\n",
              "  </style>\n",
              "\n",
              "      <script>\n",
              "        const buttonEl =\n",
              "          document.querySelector('#df-77ed3d1c-61f5-4622-a786-b86867318754 button.colab-df-convert');\n",
              "        buttonEl.style.display =\n",
              "          google.colab.kernel.accessAllowed ? 'block' : 'none';\n",
              "\n",
              "        async function convertToInteractive(key) {\n",
              "          const element = document.querySelector('#df-77ed3d1c-61f5-4622-a786-b86867318754');\n",
              "          const dataTable =\n",
              "            await google.colab.kernel.invokeFunction('convertToInteractive',\n",
              "                                                     [key], {});\n",
              "          if (!dataTable) return;\n",
              "\n",
              "          const docLinkHtml = 'Like what you see? Visit the ' +\n",
              "            '<a target=\"_blank\" href=https://colab.research.google.com/notebooks/data_table.ipynb>data table notebook</a>'\n",
              "            + ' to learn more about interactive tables.';\n",
              "          element.innerHTML = '';\n",
              "          dataTable['output_type'] = 'display_data';\n",
              "          await google.colab.output.renderOutput(dataTable, element);\n",
              "          const docLink = document.createElement('div');\n",
              "          docLink.innerHTML = docLinkHtml;\n",
              "          element.appendChild(docLink);\n",
              "        }\n",
              "      </script>\n",
              "    </div>\n",
              "  </div>\n",
              "  "
            ]
          },
          "metadata": {},
          "execution_count": 4
        }
      ]
    },
    {
      "cell_type": "code",
      "source": [
        "hb.shape"
      ],
      "metadata": {
        "id": "IHfVVtQqCfhM",
        "outputId": "f13dcf77-8cc2-4150-bc1f-90267c717ef4",
        "colab": {
          "base_uri": "https://localhost:8080/"
        }
      },
      "execution_count": null,
      "outputs": [
        {
          "output_type": "execute_result",
          "data": {
            "text/plain": [
              "(119390, 32)"
            ]
          },
          "metadata": {},
          "execution_count": 5
        }
      ]
    },
    {
      "cell_type": "code",
      "source": [
        "hb.describe()"
      ],
      "metadata": {
        "id": "ZNagPZONCue7",
        "outputId": "f90fd852-096e-4556-d9ad-669c0be2575a",
        "colab": {
          "base_uri": "https://localhost:8080/",
          "height": 364
        }
      },
      "execution_count": null,
      "outputs": [
        {
          "output_type": "execute_result",
          "data": {
            "text/plain": [
              "         is_canceled      lead_time  arrival_date_year  \\\n",
              "count  119390.000000  119390.000000      119390.000000   \n",
              "mean        0.370416     104.011416        2016.156554   \n",
              "std         0.482918     106.863097           0.707476   \n",
              "min         0.000000       0.000000        2015.000000   \n",
              "25%         0.000000      18.000000        2016.000000   \n",
              "50%         0.000000      69.000000        2016.000000   \n",
              "75%         1.000000     160.000000        2017.000000   \n",
              "max         1.000000     737.000000        2017.000000   \n",
              "\n",
              "       arrival_date_week_number  arrival_date_day_of_month  \\\n",
              "count             119390.000000              119390.000000   \n",
              "mean                  27.165173                  15.798241   \n",
              "std                   13.605138                   8.780829   \n",
              "min                    1.000000                   1.000000   \n",
              "25%                   16.000000                   8.000000   \n",
              "50%                   28.000000                  16.000000   \n",
              "75%                   38.000000                  23.000000   \n",
              "max                   53.000000                  31.000000   \n",
              "\n",
              "       stays_in_weekend_nights  stays_in_week_nights         adults  \\\n",
              "count            119390.000000         119390.000000  119390.000000   \n",
              "mean                  0.927599              2.500302       1.856403   \n",
              "std                   0.998613              1.908286       0.579261   \n",
              "min                   0.000000              0.000000       0.000000   \n",
              "25%                   0.000000              1.000000       2.000000   \n",
              "50%                   1.000000              2.000000       2.000000   \n",
              "75%                   2.000000              3.000000       2.000000   \n",
              "max                  19.000000             50.000000      55.000000   \n",
              "\n",
              "            children         babies  is_repeated_guest  \\\n",
              "count  119386.000000  119390.000000      119390.000000   \n",
              "mean        0.103890       0.007949           0.031912   \n",
              "std         0.398561       0.097436           0.175767   \n",
              "min         0.000000       0.000000           0.000000   \n",
              "25%         0.000000       0.000000           0.000000   \n",
              "50%         0.000000       0.000000           0.000000   \n",
              "75%         0.000000       0.000000           0.000000   \n",
              "max        10.000000      10.000000           1.000000   \n",
              "\n",
              "       previous_cancellations  previous_bookings_not_canceled  \\\n",
              "count           119390.000000                   119390.000000   \n",
              "mean                 0.087118                        0.137097   \n",
              "std                  0.844336                        1.497437   \n",
              "min                  0.000000                        0.000000   \n",
              "25%                  0.000000                        0.000000   \n",
              "50%                  0.000000                        0.000000   \n",
              "75%                  0.000000                        0.000000   \n",
              "max                 26.000000                       72.000000   \n",
              "\n",
              "       booking_changes          agent      company  days_in_waiting_list  \\\n",
              "count    119390.000000  103050.000000  6797.000000         119390.000000   \n",
              "mean          0.221124      86.693382   189.266735              2.321149   \n",
              "std           0.652306     110.774548   131.655015             17.594721   \n",
              "min           0.000000       1.000000     6.000000              0.000000   \n",
              "25%           0.000000       9.000000    62.000000              0.000000   \n",
              "50%           0.000000      14.000000   179.000000              0.000000   \n",
              "75%           0.000000     229.000000   270.000000              0.000000   \n",
              "max          21.000000     535.000000   543.000000            391.000000   \n",
              "\n",
              "                 adr  required_car_parking_spaces  total_of_special_requests  \n",
              "count  119390.000000                119390.000000              119390.000000  \n",
              "mean      101.831122                     0.062518                   0.571363  \n",
              "std        50.535790                     0.245291                   0.792798  \n",
              "min        -6.380000                     0.000000                   0.000000  \n",
              "25%        69.290000                     0.000000                   0.000000  \n",
              "50%        94.575000                     0.000000                   0.000000  \n",
              "75%       126.000000                     0.000000                   1.000000  \n",
              "max      5400.000000                     8.000000                   5.000000  "
            ],
            "text/html": [
              "\n",
              "  <div id=\"df-f447879e-f57d-4ef1-b22f-89567e85735e\">\n",
              "    <div class=\"colab-df-container\">\n",
              "      <div>\n",
              "<style scoped>\n",
              "    .dataframe tbody tr th:only-of-type {\n",
              "        vertical-align: middle;\n",
              "    }\n",
              "\n",
              "    .dataframe tbody tr th {\n",
              "        vertical-align: top;\n",
              "    }\n",
              "\n",
              "    .dataframe thead th {\n",
              "        text-align: right;\n",
              "    }\n",
              "</style>\n",
              "<table border=\"1\" class=\"dataframe\">\n",
              "  <thead>\n",
              "    <tr style=\"text-align: right;\">\n",
              "      <th></th>\n",
              "      <th>is_canceled</th>\n",
              "      <th>lead_time</th>\n",
              "      <th>arrival_date_year</th>\n",
              "      <th>arrival_date_week_number</th>\n",
              "      <th>arrival_date_day_of_month</th>\n",
              "      <th>stays_in_weekend_nights</th>\n",
              "      <th>stays_in_week_nights</th>\n",
              "      <th>adults</th>\n",
              "      <th>children</th>\n",
              "      <th>babies</th>\n",
              "      <th>is_repeated_guest</th>\n",
              "      <th>previous_cancellations</th>\n",
              "      <th>previous_bookings_not_canceled</th>\n",
              "      <th>booking_changes</th>\n",
              "      <th>agent</th>\n",
              "      <th>company</th>\n",
              "      <th>days_in_waiting_list</th>\n",
              "      <th>adr</th>\n",
              "      <th>required_car_parking_spaces</th>\n",
              "      <th>total_of_special_requests</th>\n",
              "    </tr>\n",
              "  </thead>\n",
              "  <tbody>\n",
              "    <tr>\n",
              "      <th>count</th>\n",
              "      <td>119390.000000</td>\n",
              "      <td>119390.000000</td>\n",
              "      <td>119390.000000</td>\n",
              "      <td>119390.000000</td>\n",
              "      <td>119390.000000</td>\n",
              "      <td>119390.000000</td>\n",
              "      <td>119390.000000</td>\n",
              "      <td>119390.000000</td>\n",
              "      <td>119386.000000</td>\n",
              "      <td>119390.000000</td>\n",
              "      <td>119390.000000</td>\n",
              "      <td>119390.000000</td>\n",
              "      <td>119390.000000</td>\n",
              "      <td>119390.000000</td>\n",
              "      <td>103050.000000</td>\n",
              "      <td>6797.000000</td>\n",
              "      <td>119390.000000</td>\n",
              "      <td>119390.000000</td>\n",
              "      <td>119390.000000</td>\n",
              "      <td>119390.000000</td>\n",
              "    </tr>\n",
              "    <tr>\n",
              "      <th>mean</th>\n",
              "      <td>0.370416</td>\n",
              "      <td>104.011416</td>\n",
              "      <td>2016.156554</td>\n",
              "      <td>27.165173</td>\n",
              "      <td>15.798241</td>\n",
              "      <td>0.927599</td>\n",
              "      <td>2.500302</td>\n",
              "      <td>1.856403</td>\n",
              "      <td>0.103890</td>\n",
              "      <td>0.007949</td>\n",
              "      <td>0.031912</td>\n",
              "      <td>0.087118</td>\n",
              "      <td>0.137097</td>\n",
              "      <td>0.221124</td>\n",
              "      <td>86.693382</td>\n",
              "      <td>189.266735</td>\n",
              "      <td>2.321149</td>\n",
              "      <td>101.831122</td>\n",
              "      <td>0.062518</td>\n",
              "      <td>0.571363</td>\n",
              "    </tr>\n",
              "    <tr>\n",
              "      <th>std</th>\n",
              "      <td>0.482918</td>\n",
              "      <td>106.863097</td>\n",
              "      <td>0.707476</td>\n",
              "      <td>13.605138</td>\n",
              "      <td>8.780829</td>\n",
              "      <td>0.998613</td>\n",
              "      <td>1.908286</td>\n",
              "      <td>0.579261</td>\n",
              "      <td>0.398561</td>\n",
              "      <td>0.097436</td>\n",
              "      <td>0.175767</td>\n",
              "      <td>0.844336</td>\n",
              "      <td>1.497437</td>\n",
              "      <td>0.652306</td>\n",
              "      <td>110.774548</td>\n",
              "      <td>131.655015</td>\n",
              "      <td>17.594721</td>\n",
              "      <td>50.535790</td>\n",
              "      <td>0.245291</td>\n",
              "      <td>0.792798</td>\n",
              "    </tr>\n",
              "    <tr>\n",
              "      <th>min</th>\n",
              "      <td>0.000000</td>\n",
              "      <td>0.000000</td>\n",
              "      <td>2015.000000</td>\n",
              "      <td>1.000000</td>\n",
              "      <td>1.000000</td>\n",
              "      <td>0.000000</td>\n",
              "      <td>0.000000</td>\n",
              "      <td>0.000000</td>\n",
              "      <td>0.000000</td>\n",
              "      <td>0.000000</td>\n",
              "      <td>0.000000</td>\n",
              "      <td>0.000000</td>\n",
              "      <td>0.000000</td>\n",
              "      <td>0.000000</td>\n",
              "      <td>1.000000</td>\n",
              "      <td>6.000000</td>\n",
              "      <td>0.000000</td>\n",
              "      <td>-6.380000</td>\n",
              "      <td>0.000000</td>\n",
              "      <td>0.000000</td>\n",
              "    </tr>\n",
              "    <tr>\n",
              "      <th>25%</th>\n",
              "      <td>0.000000</td>\n",
              "      <td>18.000000</td>\n",
              "      <td>2016.000000</td>\n",
              "      <td>16.000000</td>\n",
              "      <td>8.000000</td>\n",
              "      <td>0.000000</td>\n",
              "      <td>1.000000</td>\n",
              "      <td>2.000000</td>\n",
              "      <td>0.000000</td>\n",
              "      <td>0.000000</td>\n",
              "      <td>0.000000</td>\n",
              "      <td>0.000000</td>\n",
              "      <td>0.000000</td>\n",
              "      <td>0.000000</td>\n",
              "      <td>9.000000</td>\n",
              "      <td>62.000000</td>\n",
              "      <td>0.000000</td>\n",
              "      <td>69.290000</td>\n",
              "      <td>0.000000</td>\n",
              "      <td>0.000000</td>\n",
              "    </tr>\n",
              "    <tr>\n",
              "      <th>50%</th>\n",
              "      <td>0.000000</td>\n",
              "      <td>69.000000</td>\n",
              "      <td>2016.000000</td>\n",
              "      <td>28.000000</td>\n",
              "      <td>16.000000</td>\n",
              "      <td>1.000000</td>\n",
              "      <td>2.000000</td>\n",
              "      <td>2.000000</td>\n",
              "      <td>0.000000</td>\n",
              "      <td>0.000000</td>\n",
              "      <td>0.000000</td>\n",
              "      <td>0.000000</td>\n",
              "      <td>0.000000</td>\n",
              "      <td>0.000000</td>\n",
              "      <td>14.000000</td>\n",
              "      <td>179.000000</td>\n",
              "      <td>0.000000</td>\n",
              "      <td>94.575000</td>\n",
              "      <td>0.000000</td>\n",
              "      <td>0.000000</td>\n",
              "    </tr>\n",
              "    <tr>\n",
              "      <th>75%</th>\n",
              "      <td>1.000000</td>\n",
              "      <td>160.000000</td>\n",
              "      <td>2017.000000</td>\n",
              "      <td>38.000000</td>\n",
              "      <td>23.000000</td>\n",
              "      <td>2.000000</td>\n",
              "      <td>3.000000</td>\n",
              "      <td>2.000000</td>\n",
              "      <td>0.000000</td>\n",
              "      <td>0.000000</td>\n",
              "      <td>0.000000</td>\n",
              "      <td>0.000000</td>\n",
              "      <td>0.000000</td>\n",
              "      <td>0.000000</td>\n",
              "      <td>229.000000</td>\n",
              "      <td>270.000000</td>\n",
              "      <td>0.000000</td>\n",
              "      <td>126.000000</td>\n",
              "      <td>0.000000</td>\n",
              "      <td>1.000000</td>\n",
              "    </tr>\n",
              "    <tr>\n",
              "      <th>max</th>\n",
              "      <td>1.000000</td>\n",
              "      <td>737.000000</td>\n",
              "      <td>2017.000000</td>\n",
              "      <td>53.000000</td>\n",
              "      <td>31.000000</td>\n",
              "      <td>19.000000</td>\n",
              "      <td>50.000000</td>\n",
              "      <td>55.000000</td>\n",
              "      <td>10.000000</td>\n",
              "      <td>10.000000</td>\n",
              "      <td>1.000000</td>\n",
              "      <td>26.000000</td>\n",
              "      <td>72.000000</td>\n",
              "      <td>21.000000</td>\n",
              "      <td>535.000000</td>\n",
              "      <td>543.000000</td>\n",
              "      <td>391.000000</td>\n",
              "      <td>5400.000000</td>\n",
              "      <td>8.000000</td>\n",
              "      <td>5.000000</td>\n",
              "    </tr>\n",
              "  </tbody>\n",
              "</table>\n",
              "</div>\n",
              "      <button class=\"colab-df-convert\" onclick=\"convertToInteractive('df-f447879e-f57d-4ef1-b22f-89567e85735e')\"\n",
              "              title=\"Convert this dataframe to an interactive table.\"\n",
              "              style=\"display:none;\">\n",
              "        \n",
              "  <svg xmlns=\"http://www.w3.org/2000/svg\" height=\"24px\"viewBox=\"0 0 24 24\"\n",
              "       width=\"24px\">\n",
              "    <path d=\"M0 0h24v24H0V0z\" fill=\"none\"/>\n",
              "    <path d=\"M18.56 5.44l.94 2.06.94-2.06 2.06-.94-2.06-.94-.94-2.06-.94 2.06-2.06.94zm-11 1L8.5 8.5l.94-2.06 2.06-.94-2.06-.94L8.5 2.5l-.94 2.06-2.06.94zm10 10l.94 2.06.94-2.06 2.06-.94-2.06-.94-.94-2.06-.94 2.06-2.06.94z\"/><path d=\"M17.41 7.96l-1.37-1.37c-.4-.4-.92-.59-1.43-.59-.52 0-1.04.2-1.43.59L10.3 9.45l-7.72 7.72c-.78.78-.78 2.05 0 2.83L4 21.41c.39.39.9.59 1.41.59.51 0 1.02-.2 1.41-.59l7.78-7.78 2.81-2.81c.8-.78.8-2.07 0-2.86zM5.41 20L4 18.59l7.72-7.72 1.47 1.35L5.41 20z\"/>\n",
              "  </svg>\n",
              "      </button>\n",
              "      \n",
              "  <style>\n",
              "    .colab-df-container {\n",
              "      display:flex;\n",
              "      flex-wrap:wrap;\n",
              "      gap: 12px;\n",
              "    }\n",
              "\n",
              "    .colab-df-convert {\n",
              "      background-color: #E8F0FE;\n",
              "      border: none;\n",
              "      border-radius: 50%;\n",
              "      cursor: pointer;\n",
              "      display: none;\n",
              "      fill: #1967D2;\n",
              "      height: 32px;\n",
              "      padding: 0 0 0 0;\n",
              "      width: 32px;\n",
              "    }\n",
              "\n",
              "    .colab-df-convert:hover {\n",
              "      background-color: #E2EBFA;\n",
              "      box-shadow: 0px 1px 2px rgba(60, 64, 67, 0.3), 0px 1px 3px 1px rgba(60, 64, 67, 0.15);\n",
              "      fill: #174EA6;\n",
              "    }\n",
              "\n",
              "    [theme=dark] .colab-df-convert {\n",
              "      background-color: #3B4455;\n",
              "      fill: #D2E3FC;\n",
              "    }\n",
              "\n",
              "    [theme=dark] .colab-df-convert:hover {\n",
              "      background-color: #434B5C;\n",
              "      box-shadow: 0px 1px 3px 1px rgba(0, 0, 0, 0.15);\n",
              "      filter: drop-shadow(0px 1px 2px rgba(0, 0, 0, 0.3));\n",
              "      fill: #FFFFFF;\n",
              "    }\n",
              "  </style>\n",
              "\n",
              "      <script>\n",
              "        const buttonEl =\n",
              "          document.querySelector('#df-f447879e-f57d-4ef1-b22f-89567e85735e button.colab-df-convert');\n",
              "        buttonEl.style.display =\n",
              "          google.colab.kernel.accessAllowed ? 'block' : 'none';\n",
              "\n",
              "        async function convertToInteractive(key) {\n",
              "          const element = document.querySelector('#df-f447879e-f57d-4ef1-b22f-89567e85735e');\n",
              "          const dataTable =\n",
              "            await google.colab.kernel.invokeFunction('convertToInteractive',\n",
              "                                                     [key], {});\n",
              "          if (!dataTable) return;\n",
              "\n",
              "          const docLinkHtml = 'Like what you see? Visit the ' +\n",
              "            '<a target=\"_blank\" href=https://colab.research.google.com/notebooks/data_table.ipynb>data table notebook</a>'\n",
              "            + ' to learn more about interactive tables.';\n",
              "          element.innerHTML = '';\n",
              "          dataTable['output_type'] = 'display_data';\n",
              "          await google.colab.output.renderOutput(dataTable, element);\n",
              "          const docLink = document.createElement('div');\n",
              "          docLink.innerHTML = docLinkHtml;\n",
              "          element.appendChild(docLink);\n",
              "        }\n",
              "      </script>\n",
              "    </div>\n",
              "  </div>\n",
              "  "
            ]
          },
          "metadata": {},
          "execution_count": 6
        }
      ]
    },
    {
      "cell_type": "code",
      "source": [
        "hb.info()"
      ],
      "metadata": {
        "id": "v-tFytGECxUW",
        "outputId": "d291c918-9b05-4b43-ff83-fc18fd53f6d4",
        "colab": {
          "base_uri": "https://localhost:8080/"
        }
      },
      "execution_count": null,
      "outputs": [
        {
          "output_type": "stream",
          "name": "stdout",
          "text": [
            "<class 'pandas.core.frame.DataFrame'>\n",
            "RangeIndex: 119390 entries, 0 to 119389\n",
            "Data columns (total 32 columns):\n",
            " #   Column                          Non-Null Count   Dtype  \n",
            "---  ------                          --------------   -----  \n",
            " 0   hotel                           119390 non-null  object \n",
            " 1   is_canceled                     119390 non-null  int64  \n",
            " 2   lead_time                       119390 non-null  int64  \n",
            " 3   arrival_date_year               119390 non-null  int64  \n",
            " 4   arrival_date_month              119390 non-null  object \n",
            " 5   arrival_date_week_number        119390 non-null  int64  \n",
            " 6   arrival_date_day_of_month       119390 non-null  int64  \n",
            " 7   stays_in_weekend_nights         119390 non-null  int64  \n",
            " 8   stays_in_week_nights            119390 non-null  int64  \n",
            " 9   adults                          119390 non-null  int64  \n",
            " 10  children                        119386 non-null  float64\n",
            " 11  babies                          119390 non-null  int64  \n",
            " 12  meal                            119390 non-null  object \n",
            " 13  country                         118902 non-null  object \n",
            " 14  market_segment                  119390 non-null  object \n",
            " 15  distribution_channel            119390 non-null  object \n",
            " 16  is_repeated_guest               119390 non-null  int64  \n",
            " 17  previous_cancellations          119390 non-null  int64  \n",
            " 18  previous_bookings_not_canceled  119390 non-null  int64  \n",
            " 19  reserved_room_type              119390 non-null  object \n",
            " 20  assigned_room_type              119390 non-null  object \n",
            " 21  booking_changes                 119390 non-null  int64  \n",
            " 22  deposit_type                    119390 non-null  object \n",
            " 23  agent                           103050 non-null  float64\n",
            " 24  company                         6797 non-null    float64\n",
            " 25  days_in_waiting_list            119390 non-null  int64  \n",
            " 26  customer_type                   119390 non-null  object \n",
            " 27  adr                             119390 non-null  float64\n",
            " 28  required_car_parking_spaces     119390 non-null  int64  \n",
            " 29  total_of_special_requests       119390 non-null  int64  \n",
            " 30  reservation_status              119390 non-null  object \n",
            " 31  reservation_status_date         119390 non-null  object \n",
            "dtypes: float64(4), int64(16), object(12)\n",
            "memory usage: 29.1+ MB\n"
          ]
        }
      ]
    },
    {
      "cell_type": "markdown",
      "source": [
        "# **Data Description**"
      ],
      "metadata": {
        "id": "BTBYvmfFGeHa"
      }
    },
    {
      "cell_type": "markdown",
      "source": [
        "**hotel :** Hotel type.\n",
        "\n",
        "**is_canceled :** value indicates if the booking is canceled or not.\n",
        "\n",
        "**lead_time :** How long in advance the booking was made.\n",
        "\n",
        "**arrival_date_year :** Customer arrival year.\n",
        "\n",
        "**arrival_date_month :** In which month of the year customer visited hotel.\n",
        "\n",
        "**arrival_date_week_number :** In which week of the year customer arrived.\n",
        "\n",
        "**arrival_date_day_of_month :** Date of the month customer visited hotel.\n",
        "\n",
        "**stays_in_weekend_nights :** Customer stayed or booked to stay in hotel during weekend nights.\n",
        "\n",
        "**stays_in_week_nights :** Customer stayed in hotel during week nights.\n",
        "\n",
        "**adults :** Number of adults\n",
        "\n",
        "**children :** number of children.\n",
        "\n",
        "**babies :** Number of babies.\n",
        "\n",
        "**meal :** Type of meal booked. : country : Country of orgin of cutomer.\n",
        "\n",
        "**market_segment :** where the bookings came from.\n",
        "\n",
        "**distribution_channel :** Booking distribution channel. The term “TA” means “Travel Agents” and “TO” means “Tour Operators” .\n",
        "\n",
        "**is_repeated_guest :** Value indicating if the booking name was from a repeated guest (1) or not (0).\n",
        "\n",
        "**previous_cancellations :** Number of previous bookings that were cancelled by the customer prior to the current booking.\n",
        "\n",
        "**previous_bookings_not_canceled :** umber of previous bookings that were cancelled by the customer prior to the current booking.\n",
        "\n",
        "**reserved_room_type :** Code of room type reserved. Code is presented instead of designation for anonymity reasons.\n",
        "\n",
        "**assigned_room_type :** Code for the type of room assigned to the booking. Sometimes the assigned room type differs from the reserved room type due. booking_changes : Number of changes/amendments made to the booking from the moment the booking was entered on the PMS.\n",
        "\n",
        "**deposit_type :** Indication on if the customer made a deposit to guarantee the booking.\n",
        "\n",
        "**agent :** ID of the travel agency that made the booking.\n",
        "\n",
        "**company :** ID of the company/entity that made the booking or responsible for paying the booking.\n",
        "\n",
        "**days_in_waiting_list :** Number of days the booking was in the waiting list before it was confirmed to the customer.\n",
        "\n",
        "**customer_type :** Type of booking, assuming one of four categories.\n",
        "\n",
        "**adr :** Average Daily Rate as defined by dividing the sum of all lodging transactions by the total number of staying nights.\n",
        "\n",
        "**required_car_parking_spaces :** Number of car parking spaces required by the customer.\n",
        "\n",
        "**total_of_special_requests :** Number of special requests made by the customer (e.g. twin bed or high floor).\n",
        "\n",
        "**reservation_status :** Reservation last status, assuming one of three categories: Canceled – booking was canceled by the customer; Check-Out: customer check out from hotel,No show: Customer did not check-in hotel and informed hotel with reason.\n",
        "\n",
        "**reservation_status_date :** Date at which the last status was set. This variable can be used in conjunction with the ReservationStatus to understand when was the booking cancelled or when did the customer checked out of the hotel"
      ],
      "metadata": {
        "id": "KZe3LHnjFbR9"
      }
    },
    {
      "cell_type": "markdown",
      "source": [
        "# **Data Manipulation**"
      ],
      "metadata": {
        "id": "1QUvrkjJJ5cT"
      }
    },
    {
      "cell_type": "code",
      "source": [
        "hb.isnull().sum().sort_values(ascending=False)"
      ],
      "metadata": {
        "colab": {
          "base_uri": "https://localhost:8080/"
        },
        "id": "_5ADmWU-Gg1y",
        "outputId": "83a5a45a-57f5-4f19-d8ed-d9fbeffb1a4d"
      },
      "execution_count": null,
      "outputs": [
        {
          "output_type": "execute_result",
          "data": {
            "text/plain": [
              "company                           112593\n",
              "agent                              16340\n",
              "country                              488\n",
              "children                               4\n",
              "reserved_room_type                     0\n",
              "assigned_room_type                     0\n",
              "booking_changes                        0\n",
              "deposit_type                           0\n",
              "hotel                                  0\n",
              "previous_cancellations                 0\n",
              "days_in_waiting_list                   0\n",
              "customer_type                          0\n",
              "adr                                    0\n",
              "required_car_parking_spaces            0\n",
              "total_of_special_requests              0\n",
              "reservation_status                     0\n",
              "previous_bookings_not_canceled         0\n",
              "is_repeated_guest                      0\n",
              "is_canceled                            0\n",
              "distribution_channel                   0\n",
              "market_segment                         0\n",
              "meal                                   0\n",
              "babies                                 0\n",
              "adults                                 0\n",
              "stays_in_week_nights                   0\n",
              "stays_in_weekend_nights                0\n",
              "arrival_date_day_of_month              0\n",
              "arrival_date_week_number               0\n",
              "arrival_date_month                     0\n",
              "arrival_date_year                      0\n",
              "lead_time                              0\n",
              "reservation_status_date                0\n",
              "dtype: int64"
            ]
          },
          "metadata": {},
          "execution_count": 8
        }
      ]
    },
    {
      "cell_type": "code",
      "source": [
        "hb.isna().sum().sort_values(ascending=False)"
      ],
      "metadata": {
        "colab": {
          "base_uri": "https://localhost:8080/"
        },
        "id": "P7reIMXTGnIj",
        "outputId": "b7f6cd9d-b40a-4827-ceff-bc9d874f806c"
      },
      "execution_count": null,
      "outputs": [
        {
          "output_type": "execute_result",
          "data": {
            "text/plain": [
              "company                           112593\n",
              "agent                              16340\n",
              "country                              488\n",
              "children                               4\n",
              "reserved_room_type                     0\n",
              "assigned_room_type                     0\n",
              "booking_changes                        0\n",
              "deposit_type                           0\n",
              "hotel                                  0\n",
              "previous_cancellations                 0\n",
              "days_in_waiting_list                   0\n",
              "customer_type                          0\n",
              "adr                                    0\n",
              "required_car_parking_spaces            0\n",
              "total_of_special_requests              0\n",
              "reservation_status                     0\n",
              "previous_bookings_not_canceled         0\n",
              "is_repeated_guest                      0\n",
              "is_canceled                            0\n",
              "distribution_channel                   0\n",
              "market_segment                         0\n",
              "meal                                   0\n",
              "babies                                 0\n",
              "adults                                 0\n",
              "stays_in_week_nights                   0\n",
              "stays_in_weekend_nights                0\n",
              "arrival_date_day_of_month              0\n",
              "arrival_date_week_number               0\n",
              "arrival_date_month                     0\n",
              "arrival_date_year                      0\n",
              "lead_time                              0\n",
              "reservation_status_date                0\n",
              "dtype: int64"
            ]
          },
          "metadata": {},
          "execution_count": 9
        }
      ]
    },
    {
      "cell_type": "markdown",
      "source": [
        "\n",
        "There are four columns (children, Country, agent and company)which contain null values.\n",
        "\n",
        "We have to find a way to replace those null values with something meaningfull.\n",
        "\n",
        "we will replace the 'nan' values of children,agent,company coulums with '0' and country column 'nan' values with 'no data'."
      ],
      "metadata": {
        "id": "KEZKnCYVHFIy"
      }
    },
    {
      "cell_type": "code",
      "source": [
        "\n",
        "hb[['children','agent','company']]=hb[['children','agent','company']].fillna(0,inplace=True)"
      ],
      "metadata": {
        "id": "k2AdD9dGJAb0"
      },
      "execution_count": null,
      "outputs": []
    },
    {
      "cell_type": "code",
      "source": [
        "hb['country'].fillna('no data',inplace=True)"
      ],
      "metadata": {
        "id": "w4rKJ3Z-JNUW"
      },
      "execution_count": null,
      "outputs": []
    },
    {
      "cell_type": "code",
      "source": [
        "hb.isnull().sum()"
      ],
      "metadata": {
        "colab": {
          "base_uri": "https://localhost:8080/"
        },
        "id": "n-NrG-yCRjZ7",
        "outputId": "59086490-426c-4637-8f8f-76f8dfd1b4e0"
      },
      "execution_count": null,
      "outputs": [
        {
          "output_type": "execute_result",
          "data": {
            "text/plain": [
              "hotel                                  0\n",
              "is_canceled                            0\n",
              "lead_time                              0\n",
              "arrival_date_year                      0\n",
              "arrival_date_month                     0\n",
              "arrival_date_week_number               0\n",
              "arrival_date_day_of_month              0\n",
              "stays_in_weekend_nights                0\n",
              "stays_in_week_nights                   0\n",
              "adults                                 0\n",
              "children                          119390\n",
              "babies                                 0\n",
              "meal                                   0\n",
              "country                                0\n",
              "market_segment                         0\n",
              "distribution_channel                   0\n",
              "is_repeated_guest                      0\n",
              "previous_cancellations                 0\n",
              "previous_bookings_not_canceled         0\n",
              "reserved_room_type                     0\n",
              "assigned_room_type                     0\n",
              "booking_changes                        0\n",
              "deposit_type                           0\n",
              "agent                             119390\n",
              "company                           119390\n",
              "days_in_waiting_list                   0\n",
              "customer_type                          0\n",
              "adr                                    0\n",
              "required_car_parking_spaces            0\n",
              "total_of_special_requests              0\n",
              "reservation_status                     0\n",
              "reservation_status_date                0\n",
              "dtype: int64"
            ]
          },
          "metadata": {},
          "execution_count": 13
        }
      ]
    },
    {
      "cell_type": "code",
      "source": [
        "hb.drop_duplicates(inplace=True)\n",
        "hb.shape"
      ],
      "metadata": {
        "colab": {
          "base_uri": "https://localhost:8080/"
        },
        "id": "iQoa6yPKPS-1",
        "outputId": "cd606864-d731-4167-b244-7d14629f058b"
      },
      "execution_count": null,
      "outputs": [
        {
          "output_type": "execute_result",
          "data": {
            "text/plain": [
              "(87340, 32)"
            ]
          },
          "metadata": {},
          "execution_count": 14
        }
      ]
    },
    {
      "cell_type": "markdown",
      "source": [
        "Data is Cleaned, Now there are No Null Values in the Data.\n",
        "\n",
        "We can work on the data smoothly now"
      ],
      "metadata": {
        "id": "lnLErq1bJ0wu"
      }
    },
    {
      "cell_type": "code",
      "source": [
        "#Adding total stay column in dataframe that is (stays_in_week_nights + stays_in_weekend_nights)\n",
        "hb['total_stay'] = hb['stays_in_week_nights']+hb['stays_in_weekend_nights']\n",
        "\n",
        "#Adding total people columns that is(adults + children + babies)\n",
        "hb['total_people'] = hb['adults'] + hb['children'] + hb['babies']"
      ],
      "metadata": {
        "id": "zM3iwSlwxd19"
      },
      "execution_count": null,
      "outputs": []
    },
    {
      "cell_type": "code",
      "source": [
        "#create dataframe of numerical columns\n",
        "numerical_df = hb._get_numeric_data()\n",
        "numerical_df.head()"
      ],
      "metadata": {
        "colab": {
          "base_uri": "https://localhost:8080/",
          "height": 270
        },
        "id": "fzqHKxuKPp_r",
        "outputId": "4b389428-eeaf-441e-9261-f9aa288a40ec"
      },
      "execution_count": null,
      "outputs": [
        {
          "output_type": "execute_result",
          "data": {
            "text/plain": [
              "   is_canceled  lead_time  arrival_date_year  arrival_date_week_number  \\\n",
              "0            0        342               2015                        27   \n",
              "1            0        737               2015                        27   \n",
              "2            0          7               2015                        27   \n",
              "3            0         13               2015                        27   \n",
              "4            0         14               2015                        27   \n",
              "\n",
              "   arrival_date_day_of_month  stays_in_weekend_nights  stays_in_week_nights  \\\n",
              "0                          1                        0                     0   \n",
              "1                          1                        0                     0   \n",
              "2                          1                        0                     1   \n",
              "3                          1                        0                     1   \n",
              "4                          1                        0                     2   \n",
              "\n",
              "   adults  babies  is_repeated_guest  previous_cancellations  \\\n",
              "0       2       0                  0                       0   \n",
              "1       2       0                  0                       0   \n",
              "2       1       0                  0                       0   \n",
              "3       1       0                  0                       0   \n",
              "4       2       0                  0                       0   \n",
              "\n",
              "   previous_bookings_not_canceled  booking_changes  days_in_waiting_list  \\\n",
              "0                               0                3                     0   \n",
              "1                               0                4                     0   \n",
              "2                               0                0                     0   \n",
              "3                               0                0                     0   \n",
              "4                               0                0                     0   \n",
              "\n",
              "    adr  required_car_parking_spaces  total_of_special_requests  total_stay  \n",
              "0   0.0                            0                          0           0  \n",
              "1   0.0                            0                          0           0  \n",
              "2  75.0                            0                          0           1  \n",
              "3  75.0                            0                          0           1  \n",
              "4  98.0                            0                          1           2  "
            ],
            "text/html": [
              "\n",
              "  <div id=\"df-ca507540-c23b-4047-851f-4c964a7aff28\">\n",
              "    <div class=\"colab-df-container\">\n",
              "      <div>\n",
              "<style scoped>\n",
              "    .dataframe tbody tr th:only-of-type {\n",
              "        vertical-align: middle;\n",
              "    }\n",
              "\n",
              "    .dataframe tbody tr th {\n",
              "        vertical-align: top;\n",
              "    }\n",
              "\n",
              "    .dataframe thead th {\n",
              "        text-align: right;\n",
              "    }\n",
              "</style>\n",
              "<table border=\"1\" class=\"dataframe\">\n",
              "  <thead>\n",
              "    <tr style=\"text-align: right;\">\n",
              "      <th></th>\n",
              "      <th>is_canceled</th>\n",
              "      <th>lead_time</th>\n",
              "      <th>arrival_date_year</th>\n",
              "      <th>arrival_date_week_number</th>\n",
              "      <th>arrival_date_day_of_month</th>\n",
              "      <th>stays_in_weekend_nights</th>\n",
              "      <th>stays_in_week_nights</th>\n",
              "      <th>adults</th>\n",
              "      <th>babies</th>\n",
              "      <th>is_repeated_guest</th>\n",
              "      <th>previous_cancellations</th>\n",
              "      <th>previous_bookings_not_canceled</th>\n",
              "      <th>booking_changes</th>\n",
              "      <th>days_in_waiting_list</th>\n",
              "      <th>adr</th>\n",
              "      <th>required_car_parking_spaces</th>\n",
              "      <th>total_of_special_requests</th>\n",
              "      <th>total_stay</th>\n",
              "    </tr>\n",
              "  </thead>\n",
              "  <tbody>\n",
              "    <tr>\n",
              "      <th>0</th>\n",
              "      <td>0</td>\n",
              "      <td>342</td>\n",
              "      <td>2015</td>\n",
              "      <td>27</td>\n",
              "      <td>1</td>\n",
              "      <td>0</td>\n",
              "      <td>0</td>\n",
              "      <td>2</td>\n",
              "      <td>0</td>\n",
              "      <td>0</td>\n",
              "      <td>0</td>\n",
              "      <td>0</td>\n",
              "      <td>3</td>\n",
              "      <td>0</td>\n",
              "      <td>0.0</td>\n",
              "      <td>0</td>\n",
              "      <td>0</td>\n",
              "      <td>0</td>\n",
              "    </tr>\n",
              "    <tr>\n",
              "      <th>1</th>\n",
              "      <td>0</td>\n",
              "      <td>737</td>\n",
              "      <td>2015</td>\n",
              "      <td>27</td>\n",
              "      <td>1</td>\n",
              "      <td>0</td>\n",
              "      <td>0</td>\n",
              "      <td>2</td>\n",
              "      <td>0</td>\n",
              "      <td>0</td>\n",
              "      <td>0</td>\n",
              "      <td>0</td>\n",
              "      <td>4</td>\n",
              "      <td>0</td>\n",
              "      <td>0.0</td>\n",
              "      <td>0</td>\n",
              "      <td>0</td>\n",
              "      <td>0</td>\n",
              "    </tr>\n",
              "    <tr>\n",
              "      <th>2</th>\n",
              "      <td>0</td>\n",
              "      <td>7</td>\n",
              "      <td>2015</td>\n",
              "      <td>27</td>\n",
              "      <td>1</td>\n",
              "      <td>0</td>\n",
              "      <td>1</td>\n",
              "      <td>1</td>\n",
              "      <td>0</td>\n",
              "      <td>0</td>\n",
              "      <td>0</td>\n",
              "      <td>0</td>\n",
              "      <td>0</td>\n",
              "      <td>0</td>\n",
              "      <td>75.0</td>\n",
              "      <td>0</td>\n",
              "      <td>0</td>\n",
              "      <td>1</td>\n",
              "    </tr>\n",
              "    <tr>\n",
              "      <th>3</th>\n",
              "      <td>0</td>\n",
              "      <td>13</td>\n",
              "      <td>2015</td>\n",
              "      <td>27</td>\n",
              "      <td>1</td>\n",
              "      <td>0</td>\n",
              "      <td>1</td>\n",
              "      <td>1</td>\n",
              "      <td>0</td>\n",
              "      <td>0</td>\n",
              "      <td>0</td>\n",
              "      <td>0</td>\n",
              "      <td>0</td>\n",
              "      <td>0</td>\n",
              "      <td>75.0</td>\n",
              "      <td>0</td>\n",
              "      <td>0</td>\n",
              "      <td>1</td>\n",
              "    </tr>\n",
              "    <tr>\n",
              "      <th>4</th>\n",
              "      <td>0</td>\n",
              "      <td>14</td>\n",
              "      <td>2015</td>\n",
              "      <td>27</td>\n",
              "      <td>1</td>\n",
              "      <td>0</td>\n",
              "      <td>2</td>\n",
              "      <td>2</td>\n",
              "      <td>0</td>\n",
              "      <td>0</td>\n",
              "      <td>0</td>\n",
              "      <td>0</td>\n",
              "      <td>0</td>\n",
              "      <td>0</td>\n",
              "      <td>98.0</td>\n",
              "      <td>0</td>\n",
              "      <td>1</td>\n",
              "      <td>2</td>\n",
              "    </tr>\n",
              "  </tbody>\n",
              "</table>\n",
              "</div>\n",
              "      <button class=\"colab-df-convert\" onclick=\"convertToInteractive('df-ca507540-c23b-4047-851f-4c964a7aff28')\"\n",
              "              title=\"Convert this dataframe to an interactive table.\"\n",
              "              style=\"display:none;\">\n",
              "        \n",
              "  <svg xmlns=\"http://www.w3.org/2000/svg\" height=\"24px\"viewBox=\"0 0 24 24\"\n",
              "       width=\"24px\">\n",
              "    <path d=\"M0 0h24v24H0V0z\" fill=\"none\"/>\n",
              "    <path d=\"M18.56 5.44l.94 2.06.94-2.06 2.06-.94-2.06-.94-.94-2.06-.94 2.06-2.06.94zm-11 1L8.5 8.5l.94-2.06 2.06-.94-2.06-.94L8.5 2.5l-.94 2.06-2.06.94zm10 10l.94 2.06.94-2.06 2.06-.94-2.06-.94-.94-2.06-.94 2.06-2.06.94z\"/><path d=\"M17.41 7.96l-1.37-1.37c-.4-.4-.92-.59-1.43-.59-.52 0-1.04.2-1.43.59L10.3 9.45l-7.72 7.72c-.78.78-.78 2.05 0 2.83L4 21.41c.39.39.9.59 1.41.59.51 0 1.02-.2 1.41-.59l7.78-7.78 2.81-2.81c.8-.78.8-2.07 0-2.86zM5.41 20L4 18.59l7.72-7.72 1.47 1.35L5.41 20z\"/>\n",
              "  </svg>\n",
              "      </button>\n",
              "      \n",
              "  <style>\n",
              "    .colab-df-container {\n",
              "      display:flex;\n",
              "      flex-wrap:wrap;\n",
              "      gap: 12px;\n",
              "    }\n",
              "\n",
              "    .colab-df-convert {\n",
              "      background-color: #E8F0FE;\n",
              "      border: none;\n",
              "      border-radius: 50%;\n",
              "      cursor: pointer;\n",
              "      display: none;\n",
              "      fill: #1967D2;\n",
              "      height: 32px;\n",
              "      padding: 0 0 0 0;\n",
              "      width: 32px;\n",
              "    }\n",
              "\n",
              "    .colab-df-convert:hover {\n",
              "      background-color: #E2EBFA;\n",
              "      box-shadow: 0px 1px 2px rgba(60, 64, 67, 0.3), 0px 1px 3px 1px rgba(60, 64, 67, 0.15);\n",
              "      fill: #174EA6;\n",
              "    }\n",
              "\n",
              "    [theme=dark] .colab-df-convert {\n",
              "      background-color: #3B4455;\n",
              "      fill: #D2E3FC;\n",
              "    }\n",
              "\n",
              "    [theme=dark] .colab-df-convert:hover {\n",
              "      background-color: #434B5C;\n",
              "      box-shadow: 0px 1px 3px 1px rgba(0, 0, 0, 0.15);\n",
              "      filter: drop-shadow(0px 1px 2px rgba(0, 0, 0, 0.3));\n",
              "      fill: #FFFFFF;\n",
              "    }\n",
              "  </style>\n",
              "\n",
              "      <script>\n",
              "        const buttonEl =\n",
              "          document.querySelector('#df-ca507540-c23b-4047-851f-4c964a7aff28 button.colab-df-convert');\n",
              "        buttonEl.style.display =\n",
              "          google.colab.kernel.accessAllowed ? 'block' : 'none';\n",
              "\n",
              "        async function convertToInteractive(key) {\n",
              "          const element = document.querySelector('#df-ca507540-c23b-4047-851f-4c964a7aff28');\n",
              "          const dataTable =\n",
              "            await google.colab.kernel.invokeFunction('convertToInteractive',\n",
              "                                                     [key], {});\n",
              "          if (!dataTable) return;\n",
              "\n",
              "          const docLinkHtml = 'Like what you see? Visit the ' +\n",
              "            '<a target=\"_blank\" href=https://colab.research.google.com/notebooks/data_table.ipynb>data table notebook</a>'\n",
              "            + ' to learn more about interactive tables.';\n",
              "          element.innerHTML = '';\n",
              "          dataTable['output_type'] = 'display_data';\n",
              "          await google.colab.output.renderOutput(dataTable, element);\n",
              "          const docLink = document.createElement('div');\n",
              "          docLink.innerHTML = docLinkHtml;\n",
              "          element.appendChild(docLink);\n",
              "        }\n",
              "      </script>\n",
              "    </div>\n",
              "  </div>\n",
              "  "
            ]
          },
          "metadata": {},
          "execution_count": 17
        }
      ]
    },
    {
      "cell_type": "code",
      "source": [
        "#create correlation matrix\n",
        "numerical_df.corr()"
      ],
      "metadata": {
        "colab": {
          "base_uri": "https://localhost:8080/",
          "height": 678
        },
        "id": "e1OBjjLaPkPZ",
        "outputId": "a1b3b844-a474-462e-98eb-4fb843eee57b"
      },
      "execution_count": null,
      "outputs": [
        {
          "output_type": "execute_result",
          "data": {
            "text/plain": [
              "                                is_canceled  lead_time  arrival_date_year  \\\n",
              "is_canceled                        1.000000   0.184697           0.088048   \n",
              "lead_time                          0.184697   1.000000           0.139034   \n",
              "arrival_date_year                  0.088048   0.139034           1.000000   \n",
              "arrival_date_week_number           0.001379   0.101160          -0.514260   \n",
              "arrival_date_day_of_month          0.005144   0.009716          -0.010148   \n",
              "stays_in_weekend_nights            0.060231   0.235092           0.005134   \n",
              "stays_in_week_nights               0.082900   0.310142           0.003557   \n",
              "adults                             0.081685   0.140348           0.038572   \n",
              "babies                            -0.020880  -0.003533          -0.022999   \n",
              "is_repeated_guest                 -0.089646  -0.147050           0.024365   \n",
              "previous_cancellations             0.051503   0.005375          -0.054223   \n",
              "previous_bookings_not_canceled    -0.052157  -0.078956           0.027272   \n",
              "booking_changes                   -0.093621   0.077027           0.008627   \n",
              "days_in_waiting_list               0.004609   0.131952          -0.027930   \n",
              "adr                                0.128040   0.023473           0.176091   \n",
              "required_car_parking_spaces       -0.184222  -0.086567          -0.039789   \n",
              "total_of_special_requests         -0.120421   0.034288           0.064267   \n",
              "total_stay                         0.084094   0.318254           0.004560   \n",
              "\n",
              "                                arrival_date_week_number  \\\n",
              "is_canceled                                     0.001379   \n",
              "lead_time                                       0.101160   \n",
              "arrival_date_year                              -0.514260   \n",
              "arrival_date_week_number                        1.000000   \n",
              "arrival_date_day_of_month                       0.093710   \n",
              "stays_in_weekend_nights                         0.026774   \n",
              "stays_in_week_nights                            0.027783   \n",
              "adults                                          0.024382   \n",
              "babies                                          0.014084   \n",
              "is_repeated_guest                              -0.036870   \n",
              "previous_cancellations                          0.007202   \n",
              "previous_bookings_not_canceled                 -0.020825   \n",
              "booking_changes                                 0.011863   \n",
              "days_in_waiting_list                            0.013680   \n",
              "adr                                             0.098288   \n",
              "required_car_parking_spaces                     0.008952   \n",
              "total_of_special_requests                       0.046663   \n",
              "total_stay                                      0.030643   \n",
              "\n",
              "                                arrival_date_day_of_month  \\\n",
              "is_canceled                                      0.005144   \n",
              "lead_time                                        0.009716   \n",
              "arrival_date_year                               -0.010148   \n",
              "arrival_date_week_number                         0.093710   \n",
              "arrival_date_day_of_month                        1.000000   \n",
              "stays_in_weekend_nights                         -0.017865   \n",
              "stays_in_week_nights                            -0.028397   \n",
              "adults                                          -0.001236   \n",
              "babies                                          -0.000410   \n",
              "is_repeated_guest                               -0.004156   \n",
              "previous_cancellations                          -0.008531   \n",
              "previous_bookings_not_canceled                   0.000164   \n",
              "booking_changes                                  0.006348   \n",
              "days_in_waiting_list                             0.006944   \n",
              "adr                                              0.022442   \n",
              "required_car_parking_spaces                      0.009140   \n",
              "total_of_special_requests                       -0.001692   \n",
              "total_stay                                      -0.027773   \n",
              "\n",
              "                                stays_in_weekend_nights  stays_in_week_nights  \\\n",
              "is_canceled                                    0.060231              0.082900   \n",
              "lead_time                                      0.235092              0.310142   \n",
              "arrival_date_year                              0.005134              0.003557   \n",
              "arrival_date_week_number                       0.026774              0.027783   \n",
              "arrival_date_day_of_month                     -0.017865             -0.028397   \n",
              "stays_in_weekend_nights                        1.000000              0.555634   \n",
              "stays_in_week_nights                           0.555634              1.000000   \n",
              "adults                                         0.088232              0.095497   \n",
              "babies                                         0.013762              0.016080   \n",
              "is_repeated_guest                             -0.107015             -0.113586   \n",
              "previous_cancellations                        -0.020657             -0.018792   \n",
              "previous_bookings_not_canceled                -0.056687             -0.058525   \n",
              "booking_changes                                0.050258              0.085109   \n",
              "days_in_waiting_list                          -0.031949              0.002060   \n",
              "adr                                            0.038868              0.053191   \n",
              "required_car_parking_spaces                   -0.042955             -0.044349   \n",
              "total_of_special_requests                      0.032376              0.037787   \n",
              "total_stay                                     0.786303              0.950586   \n",
              "\n",
              "                                  adults    babies  is_repeated_guest  \\\n",
              "is_canceled                     0.081685 -0.020880          -0.089646   \n",
              "lead_time                       0.140348 -0.003533          -0.147050   \n",
              "arrival_date_year               0.038572 -0.022999           0.024365   \n",
              "arrival_date_week_number        0.024382  0.014084          -0.036870   \n",
              "arrival_date_day_of_month      -0.001236 -0.000410          -0.004156   \n",
              "stays_in_weekend_nights         0.088232  0.013762          -0.107015   \n",
              "stays_in_week_nights            0.095497  0.016080          -0.113586   \n",
              "adults                          1.000000  0.016613          -0.171748   \n",
              "babies                          0.016613  1.000000          -0.012960   \n",
              "is_repeated_guest              -0.171748 -0.012960           1.000000   \n",
              "previous_cancellations         -0.042106 -0.005388           0.206367   \n",
              "previous_bookings_not_canceled -0.120935 -0.009186           0.441449   \n",
              "booking_changes                -0.048087  0.081178           0.006025   \n",
              "days_in_waiting_list           -0.015811 -0.006828          -0.012808   \n",
              "adr                             0.248951  0.023547          -0.153071   \n",
              "required_car_parking_spaces     0.007785  0.030960           0.071996   \n",
              "total_of_special_requests       0.112758  0.094954          -0.001360   \n",
              "total_stay                      0.103911  0.017088          -0.124367   \n",
              "\n",
              "                                previous_cancellations  \\\n",
              "is_canceled                                   0.051503   \n",
              "lead_time                                     0.005375   \n",
              "arrival_date_year                            -0.054223   \n",
              "arrival_date_week_number                      0.007202   \n",
              "arrival_date_day_of_month                    -0.008531   \n",
              "stays_in_weekend_nights                      -0.020657   \n",
              "stays_in_week_nights                         -0.018792   \n",
              "adults                                       -0.042106   \n",
              "babies                                       -0.005388   \n",
              "is_repeated_guest                             0.206367   \n",
              "previous_cancellations                        1.000000   \n",
              "previous_bookings_not_canceled                0.392061   \n",
              "booking_changes                              -0.010279   \n",
              "days_in_waiting_list                          0.003701   \n",
              "adr                                          -0.050276   \n",
              "required_car_parking_spaces                  -0.003412   \n",
              "total_of_special_requests                     0.001855   \n",
              "total_stay                                   -0.021678   \n",
              "\n",
              "                                previous_bookings_not_canceled  \\\n",
              "is_canceled                                          -0.052157   \n",
              "lead_time                                            -0.078956   \n",
              "arrival_date_year                                     0.027272   \n",
              "arrival_date_week_number                             -0.020825   \n",
              "arrival_date_day_of_month                             0.000164   \n",
              "stays_in_weekend_nights                              -0.056687   \n",
              "stays_in_week_nights                                 -0.058525   \n",
              "adults                                               -0.120935   \n",
              "babies                                               -0.009186   \n",
              "is_repeated_guest                                     0.441449   \n",
              "previous_cancellations                                0.392061   \n",
              "previous_bookings_not_canceled                        1.000000   \n",
              "booking_changes                                       0.005409   \n",
              "days_in_waiting_list                                 -0.006298   \n",
              "adr                                                  -0.085738   \n",
              "required_car_parking_spaces                           0.040859   \n",
              "total_of_special_requests                             0.027098   \n",
              "total_stay                                           -0.064658   \n",
              "\n",
              "                                booking_changes  days_in_waiting_list  \\\n",
              "is_canceled                           -0.093621              0.004609   \n",
              "lead_time                              0.077027              0.131952   \n",
              "arrival_date_year                      0.008627             -0.027930   \n",
              "arrival_date_week_number               0.011863              0.013680   \n",
              "arrival_date_day_of_month              0.006348              0.006944   \n",
              "stays_in_weekend_nights                0.050258             -0.031949   \n",
              "stays_in_week_nights                   0.085109              0.002060   \n",
              "adults                                -0.048087             -0.015811   \n",
              "babies                                 0.081178             -0.006828   \n",
              "is_repeated_guest                      0.006025             -0.012808   \n",
              "previous_cancellations                -0.010279              0.003701   \n",
              "previous_bookings_not_canceled         0.005409             -0.006298   \n",
              "booking_changes                        1.000000              0.024040   \n",
              "days_in_waiting_list                   0.024040              1.000000   \n",
              "adr                                    0.002519             -0.033026   \n",
              "required_car_parking_spaces            0.048708             -0.016048   \n",
              "total_of_special_requests              0.016059             -0.049488   \n",
              "total_stay                             0.082012             -0.010399   \n",
              "\n",
              "                                     adr  required_car_parking_spaces  \\\n",
              "is_canceled                     0.128040                    -0.184222   \n",
              "lead_time                       0.023473                    -0.086567   \n",
              "arrival_date_year               0.176091                    -0.039789   \n",
              "arrival_date_week_number        0.098288                     0.008952   \n",
              "arrival_date_day_of_month       0.022442                     0.009140   \n",
              "stays_in_weekend_nights         0.038868                    -0.042955   \n",
              "stays_in_week_nights            0.053191                    -0.044349   \n",
              "adults                          0.248951                     0.007785   \n",
              "babies                          0.023547                     0.030960   \n",
              "is_repeated_guest              -0.153071                     0.071996   \n",
              "previous_cancellations         -0.050276                    -0.003412   \n",
              "previous_bookings_not_canceled -0.085738                     0.040859   \n",
              "booking_changes                 0.002519                     0.048708   \n",
              "days_in_waiting_list           -0.033026                    -0.016048   \n",
              "adr                             1.000000                     0.039104   \n",
              "required_car_parking_spaces     0.039104                     1.000000   \n",
              "total_of_special_requests       0.137836                     0.048446   \n",
              "total_stay                      0.054040                    -0.048996   \n",
              "\n",
              "                                total_of_special_requests  total_stay  \n",
              "is_canceled                                     -0.120421    0.084094  \n",
              "lead_time                                        0.034288    0.318254  \n",
              "arrival_date_year                                0.064267    0.004560  \n",
              "arrival_date_week_number                         0.046663    0.030643  \n",
              "arrival_date_day_of_month                       -0.001692   -0.027773  \n",
              "stays_in_weekend_nights                          0.032376    0.786303  \n",
              "stays_in_week_nights                             0.037787    0.950586  \n",
              "adults                                           0.112758    0.103911  \n",
              "babies                                           0.094954    0.017088  \n",
              "is_repeated_guest                               -0.001360   -0.124367  \n",
              "previous_cancellations                           0.001855   -0.021678  \n",
              "previous_bookings_not_canceled                   0.027098   -0.064658  \n",
              "booking_changes                                  0.016059    0.082012  \n",
              "days_in_waiting_list                            -0.049488   -0.010399  \n",
              "adr                                              0.137836    0.054040  \n",
              "required_car_parking_spaces                      0.048446   -0.048996  \n",
              "total_of_special_requests                        1.000000    0.040169  \n",
              "total_stay                                       0.040169    1.000000  "
            ],
            "text/html": [
              "\n",
              "  <div id=\"df-d851e828-bdce-4418-8ab8-2d1d062d5063\">\n",
              "    <div class=\"colab-df-container\">\n",
              "      <div>\n",
              "<style scoped>\n",
              "    .dataframe tbody tr th:only-of-type {\n",
              "        vertical-align: middle;\n",
              "    }\n",
              "\n",
              "    .dataframe tbody tr th {\n",
              "        vertical-align: top;\n",
              "    }\n",
              "\n",
              "    .dataframe thead th {\n",
              "        text-align: right;\n",
              "    }\n",
              "</style>\n",
              "<table border=\"1\" class=\"dataframe\">\n",
              "  <thead>\n",
              "    <tr style=\"text-align: right;\">\n",
              "      <th></th>\n",
              "      <th>is_canceled</th>\n",
              "      <th>lead_time</th>\n",
              "      <th>arrival_date_year</th>\n",
              "      <th>arrival_date_week_number</th>\n",
              "      <th>arrival_date_day_of_month</th>\n",
              "      <th>stays_in_weekend_nights</th>\n",
              "      <th>stays_in_week_nights</th>\n",
              "      <th>adults</th>\n",
              "      <th>babies</th>\n",
              "      <th>is_repeated_guest</th>\n",
              "      <th>previous_cancellations</th>\n",
              "      <th>previous_bookings_not_canceled</th>\n",
              "      <th>booking_changes</th>\n",
              "      <th>days_in_waiting_list</th>\n",
              "      <th>adr</th>\n",
              "      <th>required_car_parking_spaces</th>\n",
              "      <th>total_of_special_requests</th>\n",
              "      <th>total_stay</th>\n",
              "    </tr>\n",
              "  </thead>\n",
              "  <tbody>\n",
              "    <tr>\n",
              "      <th>is_canceled</th>\n",
              "      <td>1.000000</td>\n",
              "      <td>0.184697</td>\n",
              "      <td>0.088048</td>\n",
              "      <td>0.001379</td>\n",
              "      <td>0.005144</td>\n",
              "      <td>0.060231</td>\n",
              "      <td>0.082900</td>\n",
              "      <td>0.081685</td>\n",
              "      <td>-0.020880</td>\n",
              "      <td>-0.089646</td>\n",
              "      <td>0.051503</td>\n",
              "      <td>-0.052157</td>\n",
              "      <td>-0.093621</td>\n",
              "      <td>0.004609</td>\n",
              "      <td>0.128040</td>\n",
              "      <td>-0.184222</td>\n",
              "      <td>-0.120421</td>\n",
              "      <td>0.084094</td>\n",
              "    </tr>\n",
              "    <tr>\n",
              "      <th>lead_time</th>\n",
              "      <td>0.184697</td>\n",
              "      <td>1.000000</td>\n",
              "      <td>0.139034</td>\n",
              "      <td>0.101160</td>\n",
              "      <td>0.009716</td>\n",
              "      <td>0.235092</td>\n",
              "      <td>0.310142</td>\n",
              "      <td>0.140348</td>\n",
              "      <td>-0.003533</td>\n",
              "      <td>-0.147050</td>\n",
              "      <td>0.005375</td>\n",
              "      <td>-0.078956</td>\n",
              "      <td>0.077027</td>\n",
              "      <td>0.131952</td>\n",
              "      <td>0.023473</td>\n",
              "      <td>-0.086567</td>\n",
              "      <td>0.034288</td>\n",
              "      <td>0.318254</td>\n",
              "    </tr>\n",
              "    <tr>\n",
              "      <th>arrival_date_year</th>\n",
              "      <td>0.088048</td>\n",
              "      <td>0.139034</td>\n",
              "      <td>1.000000</td>\n",
              "      <td>-0.514260</td>\n",
              "      <td>-0.010148</td>\n",
              "      <td>0.005134</td>\n",
              "      <td>0.003557</td>\n",
              "      <td>0.038572</td>\n",
              "      <td>-0.022999</td>\n",
              "      <td>0.024365</td>\n",
              "      <td>-0.054223</td>\n",
              "      <td>0.027272</td>\n",
              "      <td>0.008627</td>\n",
              "      <td>-0.027930</td>\n",
              "      <td>0.176091</td>\n",
              "      <td>-0.039789</td>\n",
              "      <td>0.064267</td>\n",
              "      <td>0.004560</td>\n",
              "    </tr>\n",
              "    <tr>\n",
              "      <th>arrival_date_week_number</th>\n",
              "      <td>0.001379</td>\n",
              "      <td>0.101160</td>\n",
              "      <td>-0.514260</td>\n",
              "      <td>1.000000</td>\n",
              "      <td>0.093710</td>\n",
              "      <td>0.026774</td>\n",
              "      <td>0.027783</td>\n",
              "      <td>0.024382</td>\n",
              "      <td>0.014084</td>\n",
              "      <td>-0.036870</td>\n",
              "      <td>0.007202</td>\n",
              "      <td>-0.020825</td>\n",
              "      <td>0.011863</td>\n",
              "      <td>0.013680</td>\n",
              "      <td>0.098288</td>\n",
              "      <td>0.008952</td>\n",
              "      <td>0.046663</td>\n",
              "      <td>0.030643</td>\n",
              "    </tr>\n",
              "    <tr>\n",
              "      <th>arrival_date_day_of_month</th>\n",
              "      <td>0.005144</td>\n",
              "      <td>0.009716</td>\n",
              "      <td>-0.010148</td>\n",
              "      <td>0.093710</td>\n",
              "      <td>1.000000</td>\n",
              "      <td>-0.017865</td>\n",
              "      <td>-0.028397</td>\n",
              "      <td>-0.001236</td>\n",
              "      <td>-0.000410</td>\n",
              "      <td>-0.004156</td>\n",
              "      <td>-0.008531</td>\n",
              "      <td>0.000164</td>\n",
              "      <td>0.006348</td>\n",
              "      <td>0.006944</td>\n",
              "      <td>0.022442</td>\n",
              "      <td>0.009140</td>\n",
              "      <td>-0.001692</td>\n",
              "      <td>-0.027773</td>\n",
              "    </tr>\n",
              "    <tr>\n",
              "      <th>stays_in_weekend_nights</th>\n",
              "      <td>0.060231</td>\n",
              "      <td>0.235092</td>\n",
              "      <td>0.005134</td>\n",
              "      <td>0.026774</td>\n",
              "      <td>-0.017865</td>\n",
              "      <td>1.000000</td>\n",
              "      <td>0.555634</td>\n",
              "      <td>0.088232</td>\n",
              "      <td>0.013762</td>\n",
              "      <td>-0.107015</td>\n",
              "      <td>-0.020657</td>\n",
              "      <td>-0.056687</td>\n",
              "      <td>0.050258</td>\n",
              "      <td>-0.031949</td>\n",
              "      <td>0.038868</td>\n",
              "      <td>-0.042955</td>\n",
              "      <td>0.032376</td>\n",
              "      <td>0.786303</td>\n",
              "    </tr>\n",
              "    <tr>\n",
              "      <th>stays_in_week_nights</th>\n",
              "      <td>0.082900</td>\n",
              "      <td>0.310142</td>\n",
              "      <td>0.003557</td>\n",
              "      <td>0.027783</td>\n",
              "      <td>-0.028397</td>\n",
              "      <td>0.555634</td>\n",
              "      <td>1.000000</td>\n",
              "      <td>0.095497</td>\n",
              "      <td>0.016080</td>\n",
              "      <td>-0.113586</td>\n",
              "      <td>-0.018792</td>\n",
              "      <td>-0.058525</td>\n",
              "      <td>0.085109</td>\n",
              "      <td>0.002060</td>\n",
              "      <td>0.053191</td>\n",
              "      <td>-0.044349</td>\n",
              "      <td>0.037787</td>\n",
              "      <td>0.950586</td>\n",
              "    </tr>\n",
              "    <tr>\n",
              "      <th>adults</th>\n",
              "      <td>0.081685</td>\n",
              "      <td>0.140348</td>\n",
              "      <td>0.038572</td>\n",
              "      <td>0.024382</td>\n",
              "      <td>-0.001236</td>\n",
              "      <td>0.088232</td>\n",
              "      <td>0.095497</td>\n",
              "      <td>1.000000</td>\n",
              "      <td>0.016613</td>\n",
              "      <td>-0.171748</td>\n",
              "      <td>-0.042106</td>\n",
              "      <td>-0.120935</td>\n",
              "      <td>-0.048087</td>\n",
              "      <td>-0.015811</td>\n",
              "      <td>0.248951</td>\n",
              "      <td>0.007785</td>\n",
              "      <td>0.112758</td>\n",
              "      <td>0.103911</td>\n",
              "    </tr>\n",
              "    <tr>\n",
              "      <th>babies</th>\n",
              "      <td>-0.020880</td>\n",
              "      <td>-0.003533</td>\n",
              "      <td>-0.022999</td>\n",
              "      <td>0.014084</td>\n",
              "      <td>-0.000410</td>\n",
              "      <td>0.013762</td>\n",
              "      <td>0.016080</td>\n",
              "      <td>0.016613</td>\n",
              "      <td>1.000000</td>\n",
              "      <td>-0.012960</td>\n",
              "      <td>-0.005388</td>\n",
              "      <td>-0.009186</td>\n",
              "      <td>0.081178</td>\n",
              "      <td>-0.006828</td>\n",
              "      <td>0.023547</td>\n",
              "      <td>0.030960</td>\n",
              "      <td>0.094954</td>\n",
              "      <td>0.017088</td>\n",
              "    </tr>\n",
              "    <tr>\n",
              "      <th>is_repeated_guest</th>\n",
              "      <td>-0.089646</td>\n",
              "      <td>-0.147050</td>\n",
              "      <td>0.024365</td>\n",
              "      <td>-0.036870</td>\n",
              "      <td>-0.004156</td>\n",
              "      <td>-0.107015</td>\n",
              "      <td>-0.113586</td>\n",
              "      <td>-0.171748</td>\n",
              "      <td>-0.012960</td>\n",
              "      <td>1.000000</td>\n",
              "      <td>0.206367</td>\n",
              "      <td>0.441449</td>\n",
              "      <td>0.006025</td>\n",
              "      <td>-0.012808</td>\n",
              "      <td>-0.153071</td>\n",
              "      <td>0.071996</td>\n",
              "      <td>-0.001360</td>\n",
              "      <td>-0.124367</td>\n",
              "    </tr>\n",
              "    <tr>\n",
              "      <th>previous_cancellations</th>\n",
              "      <td>0.051503</td>\n",
              "      <td>0.005375</td>\n",
              "      <td>-0.054223</td>\n",
              "      <td>0.007202</td>\n",
              "      <td>-0.008531</td>\n",
              "      <td>-0.020657</td>\n",
              "      <td>-0.018792</td>\n",
              "      <td>-0.042106</td>\n",
              "      <td>-0.005388</td>\n",
              "      <td>0.206367</td>\n",
              "      <td>1.000000</td>\n",
              "      <td>0.392061</td>\n",
              "      <td>-0.010279</td>\n",
              "      <td>0.003701</td>\n",
              "      <td>-0.050276</td>\n",
              "      <td>-0.003412</td>\n",
              "      <td>0.001855</td>\n",
              "      <td>-0.021678</td>\n",
              "    </tr>\n",
              "    <tr>\n",
              "      <th>previous_bookings_not_canceled</th>\n",
              "      <td>-0.052157</td>\n",
              "      <td>-0.078956</td>\n",
              "      <td>0.027272</td>\n",
              "      <td>-0.020825</td>\n",
              "      <td>0.000164</td>\n",
              "      <td>-0.056687</td>\n",
              "      <td>-0.058525</td>\n",
              "      <td>-0.120935</td>\n",
              "      <td>-0.009186</td>\n",
              "      <td>0.441449</td>\n",
              "      <td>0.392061</td>\n",
              "      <td>1.000000</td>\n",
              "      <td>0.005409</td>\n",
              "      <td>-0.006298</td>\n",
              "      <td>-0.085738</td>\n",
              "      <td>0.040859</td>\n",
              "      <td>0.027098</td>\n",
              "      <td>-0.064658</td>\n",
              "    </tr>\n",
              "    <tr>\n",
              "      <th>booking_changes</th>\n",
              "      <td>-0.093621</td>\n",
              "      <td>0.077027</td>\n",
              "      <td>0.008627</td>\n",
              "      <td>0.011863</td>\n",
              "      <td>0.006348</td>\n",
              "      <td>0.050258</td>\n",
              "      <td>0.085109</td>\n",
              "      <td>-0.048087</td>\n",
              "      <td>0.081178</td>\n",
              "      <td>0.006025</td>\n",
              "      <td>-0.010279</td>\n",
              "      <td>0.005409</td>\n",
              "      <td>1.000000</td>\n",
              "      <td>0.024040</td>\n",
              "      <td>0.002519</td>\n",
              "      <td>0.048708</td>\n",
              "      <td>0.016059</td>\n",
              "      <td>0.082012</td>\n",
              "    </tr>\n",
              "    <tr>\n",
              "      <th>days_in_waiting_list</th>\n",
              "      <td>0.004609</td>\n",
              "      <td>0.131952</td>\n",
              "      <td>-0.027930</td>\n",
              "      <td>0.013680</td>\n",
              "      <td>0.006944</td>\n",
              "      <td>-0.031949</td>\n",
              "      <td>0.002060</td>\n",
              "      <td>-0.015811</td>\n",
              "      <td>-0.006828</td>\n",
              "      <td>-0.012808</td>\n",
              "      <td>0.003701</td>\n",
              "      <td>-0.006298</td>\n",
              "      <td>0.024040</td>\n",
              "      <td>1.000000</td>\n",
              "      <td>-0.033026</td>\n",
              "      <td>-0.016048</td>\n",
              "      <td>-0.049488</td>\n",
              "      <td>-0.010399</td>\n",
              "    </tr>\n",
              "    <tr>\n",
              "      <th>adr</th>\n",
              "      <td>0.128040</td>\n",
              "      <td>0.023473</td>\n",
              "      <td>0.176091</td>\n",
              "      <td>0.098288</td>\n",
              "      <td>0.022442</td>\n",
              "      <td>0.038868</td>\n",
              "      <td>0.053191</td>\n",
              "      <td>0.248951</td>\n",
              "      <td>0.023547</td>\n",
              "      <td>-0.153071</td>\n",
              "      <td>-0.050276</td>\n",
              "      <td>-0.085738</td>\n",
              "      <td>0.002519</td>\n",
              "      <td>-0.033026</td>\n",
              "      <td>1.000000</td>\n",
              "      <td>0.039104</td>\n",
              "      <td>0.137836</td>\n",
              "      <td>0.054040</td>\n",
              "    </tr>\n",
              "    <tr>\n",
              "      <th>required_car_parking_spaces</th>\n",
              "      <td>-0.184222</td>\n",
              "      <td>-0.086567</td>\n",
              "      <td>-0.039789</td>\n",
              "      <td>0.008952</td>\n",
              "      <td>0.009140</td>\n",
              "      <td>-0.042955</td>\n",
              "      <td>-0.044349</td>\n",
              "      <td>0.007785</td>\n",
              "      <td>0.030960</td>\n",
              "      <td>0.071996</td>\n",
              "      <td>-0.003412</td>\n",
              "      <td>0.040859</td>\n",
              "      <td>0.048708</td>\n",
              "      <td>-0.016048</td>\n",
              "      <td>0.039104</td>\n",
              "      <td>1.000000</td>\n",
              "      <td>0.048446</td>\n",
              "      <td>-0.048996</td>\n",
              "    </tr>\n",
              "    <tr>\n",
              "      <th>total_of_special_requests</th>\n",
              "      <td>-0.120421</td>\n",
              "      <td>0.034288</td>\n",
              "      <td>0.064267</td>\n",
              "      <td>0.046663</td>\n",
              "      <td>-0.001692</td>\n",
              "      <td>0.032376</td>\n",
              "      <td>0.037787</td>\n",
              "      <td>0.112758</td>\n",
              "      <td>0.094954</td>\n",
              "      <td>-0.001360</td>\n",
              "      <td>0.001855</td>\n",
              "      <td>0.027098</td>\n",
              "      <td>0.016059</td>\n",
              "      <td>-0.049488</td>\n",
              "      <td>0.137836</td>\n",
              "      <td>0.048446</td>\n",
              "      <td>1.000000</td>\n",
              "      <td>0.040169</td>\n",
              "    </tr>\n",
              "    <tr>\n",
              "      <th>total_stay</th>\n",
              "      <td>0.084094</td>\n",
              "      <td>0.318254</td>\n",
              "      <td>0.004560</td>\n",
              "      <td>0.030643</td>\n",
              "      <td>-0.027773</td>\n",
              "      <td>0.786303</td>\n",
              "      <td>0.950586</td>\n",
              "      <td>0.103911</td>\n",
              "      <td>0.017088</td>\n",
              "      <td>-0.124367</td>\n",
              "      <td>-0.021678</td>\n",
              "      <td>-0.064658</td>\n",
              "      <td>0.082012</td>\n",
              "      <td>-0.010399</td>\n",
              "      <td>0.054040</td>\n",
              "      <td>-0.048996</td>\n",
              "      <td>0.040169</td>\n",
              "      <td>1.000000</td>\n",
              "    </tr>\n",
              "  </tbody>\n",
              "</table>\n",
              "</div>\n",
              "      <button class=\"colab-df-convert\" onclick=\"convertToInteractive('df-d851e828-bdce-4418-8ab8-2d1d062d5063')\"\n",
              "              title=\"Convert this dataframe to an interactive table.\"\n",
              "              style=\"display:none;\">\n",
              "        \n",
              "  <svg xmlns=\"http://www.w3.org/2000/svg\" height=\"24px\"viewBox=\"0 0 24 24\"\n",
              "       width=\"24px\">\n",
              "    <path d=\"M0 0h24v24H0V0z\" fill=\"none\"/>\n",
              "    <path d=\"M18.56 5.44l.94 2.06.94-2.06 2.06-.94-2.06-.94-.94-2.06-.94 2.06-2.06.94zm-11 1L8.5 8.5l.94-2.06 2.06-.94-2.06-.94L8.5 2.5l-.94 2.06-2.06.94zm10 10l.94 2.06.94-2.06 2.06-.94-2.06-.94-.94-2.06-.94 2.06-2.06.94z\"/><path d=\"M17.41 7.96l-1.37-1.37c-.4-.4-.92-.59-1.43-.59-.52 0-1.04.2-1.43.59L10.3 9.45l-7.72 7.72c-.78.78-.78 2.05 0 2.83L4 21.41c.39.39.9.59 1.41.59.51 0 1.02-.2 1.41-.59l7.78-7.78 2.81-2.81c.8-.78.8-2.07 0-2.86zM5.41 20L4 18.59l7.72-7.72 1.47 1.35L5.41 20z\"/>\n",
              "  </svg>\n",
              "      </button>\n",
              "      \n",
              "  <style>\n",
              "    .colab-df-container {\n",
              "      display:flex;\n",
              "      flex-wrap:wrap;\n",
              "      gap: 12px;\n",
              "    }\n",
              "\n",
              "    .colab-df-convert {\n",
              "      background-color: #E8F0FE;\n",
              "      border: none;\n",
              "      border-radius: 50%;\n",
              "      cursor: pointer;\n",
              "      display: none;\n",
              "      fill: #1967D2;\n",
              "      height: 32px;\n",
              "      padding: 0 0 0 0;\n",
              "      width: 32px;\n",
              "    }\n",
              "\n",
              "    .colab-df-convert:hover {\n",
              "      background-color: #E2EBFA;\n",
              "      box-shadow: 0px 1px 2px rgba(60, 64, 67, 0.3), 0px 1px 3px 1px rgba(60, 64, 67, 0.15);\n",
              "      fill: #174EA6;\n",
              "    }\n",
              "\n",
              "    [theme=dark] .colab-df-convert {\n",
              "      background-color: #3B4455;\n",
              "      fill: #D2E3FC;\n",
              "    }\n",
              "\n",
              "    [theme=dark] .colab-df-convert:hover {\n",
              "      background-color: #434B5C;\n",
              "      box-shadow: 0px 1px 3px 1px rgba(0, 0, 0, 0.15);\n",
              "      filter: drop-shadow(0px 1px 2px rgba(0, 0, 0, 0.3));\n",
              "      fill: #FFFFFF;\n",
              "    }\n",
              "  </style>\n",
              "\n",
              "      <script>\n",
              "        const buttonEl =\n",
              "          document.querySelector('#df-d851e828-bdce-4418-8ab8-2d1d062d5063 button.colab-df-convert');\n",
              "        buttonEl.style.display =\n",
              "          google.colab.kernel.accessAllowed ? 'block' : 'none';\n",
              "\n",
              "        async function convertToInteractive(key) {\n",
              "          const element = document.querySelector('#df-d851e828-bdce-4418-8ab8-2d1d062d5063');\n",
              "          const dataTable =\n",
              "            await google.colab.kernel.invokeFunction('convertToInteractive',\n",
              "                                                     [key], {});\n",
              "          if (!dataTable) return;\n",
              "\n",
              "          const docLinkHtml = 'Like what you see? Visit the ' +\n",
              "            '<a target=\"_blank\" href=https://colab.research.google.com/notebooks/data_table.ipynb>data table notebook</a>'\n",
              "            + ' to learn more about interactive tables.';\n",
              "          element.innerHTML = '';\n",
              "          dataTable['output_type'] = 'display_data';\n",
              "          await google.colab.output.renderOutput(dataTable, element);\n",
              "          const docLink = document.createElement('div');\n",
              "          docLink.innerHTML = docLinkHtml;\n",
              "          element.appendChild(docLink);\n",
              "        }\n",
              "      </script>\n",
              "    </div>\n",
              "  </div>\n",
              "  "
            ]
          },
          "metadata": {},
          "execution_count": 18
        }
      ]
    },
    {
      "cell_type": "code",
      "source": [
        "#create heatmap of above correlation matrix so that it is easy to read and understand.\n",
        "plt.figure(figsize=(20,12))\n",
        "sns.heatmap(numerical_df.corr(),annot=True,fmt = '.2f')\n",
        "plt.xticks(fontsize=14)\n",
        "plt.yticks(fontsize=14)\n",
        "plt.title('Correlation heatmap');"
      ],
      "metadata": {
        "colab": {
          "base_uri": "https://localhost:8080/",
          "height": 936
        },
        "id": "dUxXZi8bPxc0",
        "outputId": "1e1866f7-e311-4541-eab0-68ddcb3156e1"
      },
      "execution_count": null,
      "outputs": [
        {
          "output_type": "display_data",
          "data": {
            "text/plain": [
              "<Figure size 1440x864 with 2 Axes>"
            ],
            "image/png": "[encoded data removed]"
          },
          "metadata": {
            "needs_background": "light"
          }
        }
      ]
    },
    {
      "cell_type": "markdown",
      "source": [
        "# **Inferences**\n",
        "Total_stay and lead time have slight correlation it. This might means that\n",
        "customer plan reservation before their actual arrival.\n",
        "\n",
        "Adr(Average Daily Rate) is slightly correlated with total people, which makes sense as more number of people means more revenue.\n",
        "\n",
        "Previous booking not cancelled and repeated guest have high correlation as repeated guest are most likely to be who has not cancelled their previous bookings.\n",
        "\n",
        "We can also see that some columns have high correlation between them for example total people with adult and children it is because as those column are dervied from them by addition."
      ],
      "metadata": {
        "id": "N76Xo6sVP37o"
      }
    },
    {
      "cell_type": "markdown",
      "source": [
        "# **MOTIVATION**\n",
        "\n",
        "\n",
        "**To analyse the market precisely, we have planned to bifurcate the analysis into a set of questions on which we would work on.**  "
      ],
      "metadata": {
        "id": "lsStxI1NNMBx"
      }
    },
    {
      "cell_type": "markdown",
      "source": [
        "# **1. Which hotel has the most number of bookings throughout?**"
      ],
      "metadata": {
        "id": "PwSD1QIHTKXI"
      }
    },
    {
      "cell_type": "code",
      "source": [
        "max_booking=hb.groupby('hotel')['hotel'].count()\n",
        "max_booking"
      ],
      "metadata": {
        "colab": {
          "base_uri": "https://localhost:8080/"
        },
        "id": "-I_gOCiaTbmf",
        "outputId": "43ef050d-c5b4-4f45-fb4f-c477f59bfb49"
      },
      "execution_count": null,
      "outputs": [
        {
          "output_type": "execute_result",
          "data": {
            "text/plain": [
              "hotel\n",
              "City Hotel      79330\n",
              "Resort Hotel    40060\n",
              "Name: hotel, dtype: int64"
            ]
          },
          "metadata": {},
          "execution_count": 68
        }
      ]
    },
    {
      "cell_type": "code",
      "source": [
        "max_booking.plot(kind='bar')\n",
        "\n",
        "plt.title('Yearly Reservations of Hotels')\n",
        "plt.ylabel('Total number of Reservations')\n",
        "plt.xlabel('Years')"
      ],
      "metadata": {
        "colab": {
          "base_uri": "https://localhost:8080/",
          "height": 418
        },
        "id": "Ri3NVE_q6U2m",
        "outputId": "e953c175-d905-4793-9a37-f2d644232382"
      },
      "execution_count": null,
      "outputs": [
        {
          "output_type": "execute_result",
          "data": {
            "text/plain": [
              "Text(0.5, 0, 'Years')"
            ]
          },
          "metadata": {},
          "execution_count": 70
        },
        {
          "output_type": "display_data",
          "data": {
            "text/plain": [
              "<Figure size 720x360 with 1 Axes>"
            ],
            "image/png": "[encoded data removed]"
          },
          "metadata": {
            "needs_background": "light"
          }
        }
      ]
    },
    {
      "cell_type": "markdown",
      "source": [
        "# **2. Which Year had the Maximum number of bookings throughout & on Hotel Basis?**"
      ],
      "metadata": {
        "id": "6cSEumhfUwgD"
      }
    },
    {
      "cell_type": "code",
      "source": [
        "# Bookings Throughout Year-Wise\n",
        "yearly_bookings = hb['arrival_date_year'].value_counts()\n",
        "yearly_bookings\n",
        "\n",
        "# CONCLUSION :\n",
        "# Year 2016 with 56,707 bookings had the Maximum Number of bookings"
      ],
      "metadata": {
        "colab": {
          "base_uri": "https://localhost:8080/"
        },
        "id": "QTjjqQM4Uv9o",
        "outputId": "707f4edb-77cc-438c-eda5-3c79bb6dc61d"
      },
      "execution_count": null,
      "outputs": [
        {
          "output_type": "execute_result",
          "data": {
            "text/plain": [
              "2016    56707\n",
              "2017    40687\n",
              "2015    21996\n",
              "Name: arrival_date_year, dtype: int64"
            ]
          },
          "metadata": {},
          "execution_count": 71
        }
      ]
    },
    {
      "cell_type": "code",
      "source": [
        "# Bookings Yearly Hotel-Wise\n",
        "yearly_bookings_h_wise=hb.groupby(['arrival_date_year','hotel'])['arrival_date_year'].count().unstack()\n",
        "yearly_bookings_h_wise"
      ],
      "metadata": {
        "colab": {
          "base_uri": "https://localhost:8080/",
          "height": 175
        },
        "id": "1-9InMiClINH",
        "outputId": "13e484b2-a6ab-4ef0-edd8-b0ba8bc7ed69"
      },
      "execution_count": null,
      "outputs": [
        {
          "output_type": "execute_result",
          "data": {
            "text/plain": [
              "hotel              City Hotel  Resort Hotel\n",
              "arrival_date_year                          \n",
              "2015                    13682          8314\n",
              "2016                    38140         18567\n",
              "2017                    27508         13179"
            ],
            "text/html": [
              "\n",
              "  <div id=\"df-ac1a63ce-8d75-435b-b13a-c6c9a25ac43f\">\n",
              "    <div class=\"colab-df-container\">\n",
              "      <div>\n",
              "<style scoped>\n",
              "    .dataframe tbody tr th:only-of-type {\n",
              "        vertical-align: middle;\n",
              "    }\n",
              "\n",
              "    .dataframe tbody tr th {\n",
              "        vertical-align: top;\n",
              "    }\n",
              "\n",
              "    .dataframe thead th {\n",
              "        text-align: right;\n",
              "    }\n",
              "</style>\n",
              "<table border=\"1\" class=\"dataframe\">\n",
              "  <thead>\n",
              "    <tr style=\"text-align: right;\">\n",
              "      <th>hotel</th>\n",
              "      <th>City Hotel</th>\n",
              "      <th>Resort Hotel</th>\n",
              "    </tr>\n",
              "    <tr>\n",
              "      <th>arrival_date_year</th>\n",
              "      <th></th>\n",
              "      <th></th>\n",
              "    </tr>\n",
              "  </thead>\n",
              "  <tbody>\n",
              "    <tr>\n",
              "      <th>2015</th>\n",
              "      <td>13682</td>\n",
              "      <td>8314</td>\n",
              "    </tr>\n",
              "    <tr>\n",
              "      <th>2016</th>\n",
              "      <td>38140</td>\n",
              "      <td>18567</td>\n",
              "    </tr>\n",
              "    <tr>\n",
              "      <th>2017</th>\n",
              "      <td>27508</td>\n",
              "      <td>13179</td>\n",
              "    </tr>\n",
              "  </tbody>\n",
              "</table>\n",
              "</div>\n",
              "      <button class=\"colab-df-convert\" onclick=\"convertToInteractive('df-ac1a63ce-8d75-435b-b13a-c6c9a25ac43f')\"\n",
              "              title=\"Convert this dataframe to an interactive table.\"\n",
              "              style=\"display:none;\">\n",
              "        \n",
              "  <svg xmlns=\"http://www.w3.org/2000/svg\" height=\"24px\"viewBox=\"0 0 24 24\"\n",
              "       width=\"24px\">\n",
              "    <path d=\"M0 0h24v24H0V0z\" fill=\"none\"/>\n",
              "    <path d=\"M18.56 5.44l.94 2.06.94-2.06 2.06-.94-2.06-.94-.94-2.06-.94 2.06-2.06.94zm-11 1L8.5 8.5l.94-2.06 2.06-.94-2.06-.94L8.5 2.5l-.94 2.06-2.06.94zm10 10l.94 2.06.94-2.06 2.06-.94-2.06-.94-.94-2.06-.94 2.06-2.06.94z\"/><path d=\"M17.41 7.96l-1.37-1.37c-.4-.4-.92-.59-1.43-.59-.52 0-1.04.2-1.43.59L10.3 9.45l-7.72 7.72c-.78.78-.78 2.05 0 2.83L4 21.41c.39.39.9.59 1.41.59.51 0 1.02-.2 1.41-.59l7.78-7.78 2.81-2.81c.8-.78.8-2.07 0-2.86zM5.41 20L4 18.59l7.72-7.72 1.47 1.35L5.41 20z\"/>\n",
              "  </svg>\n",
              "      </button>\n",
              "      \n",
              "  <style>\n",
              "    .colab-df-container {\n",
              "      display:flex;\n",
              "      flex-wrap:wrap;\n",
              "      gap: 12px;\n",
              "    }\n",
              "\n",
              "    .colab-df-convert {\n",
              "      background-color: #E8F0FE;\n",
              "      border: none;\n",
              "      border-radius: 50%;\n",
              "      cursor: pointer;\n",
              "      display: none;\n",
              "      fill: #1967D2;\n",
              "      height: 32px;\n",
              "      padding: 0 0 0 0;\n",
              "      width: 32px;\n",
              "    }\n",
              "\n",
              "    .colab-df-convert:hover {\n",
              "      background-color: #E2EBFA;\n",
              "      box-shadow: 0px 1px 2px rgba(60, 64, 67, 0.3), 0px 1px 3px 1px rgba(60, 64, 67, 0.15);\n",
              "      fill: #174EA6;\n",
              "    }\n",
              "\n",
              "    [theme=dark] .colab-df-convert {\n",
              "      background-color: #3B4455;\n",
              "      fill: #D2E3FC;\n",
              "    }\n",
              "\n",
              "    [theme=dark] .colab-df-convert:hover {\n",
              "      background-color: #434B5C;\n",
              "      box-shadow: 0px 1px 3px 1px rgba(0, 0, 0, 0.15);\n",
              "      filter: drop-shadow(0px 1px 2px rgba(0, 0, 0, 0.3));\n",
              "      fill: #FFFFFF;\n",
              "    }\n",
              "  </style>\n",
              "\n",
              "      <script>\n",
              "        const buttonEl =\n",
              "          document.querySelector('#df-ac1a63ce-8d75-435b-b13a-c6c9a25ac43f button.colab-df-convert');\n",
              "        buttonEl.style.display =\n",
              "          google.colab.kernel.accessAllowed ? 'block' : 'none';\n",
              "\n",
              "        async function convertToInteractive(key) {\n",
              "          const element = document.querySelector('#df-ac1a63ce-8d75-435b-b13a-c6c9a25ac43f');\n",
              "          const dataTable =\n",
              "            await google.colab.kernel.invokeFunction('convertToInteractive',\n",
              "                                                     [key], {});\n",
              "          if (!dataTable) return;\n",
              "\n",
              "          const docLinkHtml = 'Like what you see? Visit the ' +\n",
              "            '<a target=\"_blank\" href=https://colab.research.google.com/notebooks/data_table.ipynb>data table notebook</a>'\n",
              "            + ' to learn more about interactive tables.';\n",
              "          element.innerHTML = '';\n",
              "          dataTable['output_type'] = 'display_data';\n",
              "          await google.colab.output.renderOutput(dataTable, element);\n",
              "          const docLink = document.createElement('div');\n",
              "          docLink.innerHTML = docLinkHtml;\n",
              "          element.appendChild(docLink);\n",
              "        }\n",
              "      </script>\n",
              "    </div>\n",
              "  </div>\n",
              "  "
            ]
          },
          "metadata": {},
          "execution_count": 72
        }
      ]
    },
    {
      "cell_type": "code",
      "source": [
        "diagram=yearly_bookings.plot(kind='pie', figsize = (15,10), title = 'Year of bookings')\n"
      ],
      "metadata": {
        "colab": {
          "base_uri": "https://localhost:8080/",
          "height": 591
        },
        "id": "yT-vmesTNHAv",
        "outputId": "281981fc-b2d2-4c35-f600-2a0377e26a00"
      },
      "execution_count": null,
      "outputs": [
        {
          "output_type": "display_data",
          "data": {
            "text/plain": [
              "<Figure size 1080x720 with 1 Axes>"
            ],
            "image/png": "[encoded data removed]"
          },
          "metadata": {}
        }
      ]
    },
    {
      "cell_type": "code",
      "source": [
        "# Create the figure object \n",
        "ax = yearly_bookings_h_wise.plot.bar(figsize = (10,5),fontsize = 14)\n",
        "\n",
        "# Set the title\n",
        "ax.set_title(\"Bookings Yearly Hotel-Wise\", fontsize = 20)\n",
        "\n",
        "# Set x and y-labels\n",
        "ax.set_xlabel(\"Year\", fontsize = 15)\n",
        "ax.set_ylabel(\"Number of Reservations \", fontsize = 15)"
      ],
      "metadata": {
        "colab": {
          "base_uri": "https://localhost:8080/",
          "height": 402
        },
        "id": "gsGCRaR63h1r",
        "outputId": "3875e383-6d71-4efb-9940-7d9c75f2799a"
      },
      "execution_count": null,
      "outputs": [
        {
          "output_type": "execute_result",
          "data": {
            "text/plain": [
              "Text(0, 0.5, 'Number of Reservations ')"
            ]
          },
          "metadata": {},
          "execution_count": 74
        },
        {
          "output_type": "display_data",
          "data": {
            "text/plain": [
              "<Figure size 720x360 with 1 Axes>"
            ],
            "image/png": "[encoded data removed]"
          },
          "metadata": {
            "needs_background": "light"
          }
        }
      ]
    },
    {
      "cell_type": "markdown",
      "source": [
        "# **The Maximum number of bookings Are in the Year 2016.**\n",
        "# **Bookings in the year 2016 has been increased** **tremendously as compared to the year 2015, but can also see that in the year 2017 we** **see a fall in the bookings compared to 2016 but Greater than in the year 2015.**"
      ],
      "metadata": {
        "id": "z8JYccuCNalq"
      }
    },
    {
      "cell_type": "markdown",
      "source": [
        "# **3. Which Month had the Maximum number of bookings throughout?**"
      ],
      "metadata": {
        "id": "BCZH5p98VFds"
      }
    },
    {
      "cell_type": "code",
      "source": [
        "monthly_bookings = hb['arrival_date_month'].value_counts()\n",
        "monthly_bookings"
      ],
      "metadata": {
        "colab": {
          "base_uri": "https://localhost:8080/"
        },
        "id": "CRj7EJhFVB0G",
        "outputId": "b3a26daa-6c4e-4a43-fd35-b7f966417650"
      },
      "execution_count": null,
      "outputs": [
        {
          "output_type": "execute_result",
          "data": {
            "text/plain": [
              "August       13877\n",
              "July         12661\n",
              "May          11791\n",
              "October      11160\n",
              "April        11089\n",
              "June         10939\n",
              "September    10508\n",
              "March         9794\n",
              "February      8068\n",
              "November      6794\n",
              "December      6780\n",
              "January       5929\n",
              "Name: arrival_date_month, dtype: int64"
            ]
          },
          "metadata": {},
          "execution_count": 75
        }
      ]
    },
    {
      "cell_type": "code",
      "source": [
        "plt.rcParams['figure.figsize'] = (10, 5)"
      ],
      "metadata": {
        "id": "lH98XV1a7I11"
      },
      "execution_count": null,
      "outputs": []
    },
    {
      "cell_type": "code",
      "source": [
        "monthly_bookings.plot()\n",
        "\n",
        "plt.title('Total number of Bookings Throughout')\n",
        "plt.ylabel('Number of Bookings')\n",
        "plt.xlabel('Month')"
      ],
      "metadata": {
        "colab": {
          "base_uri": "https://localhost:8080/",
          "height": 367
        },
        "id": "0WWdo7L37ABt",
        "outputId": "408a4fb0-4e73-47aa-f32c-6d3d8ded4538"
      },
      "execution_count": null,
      "outputs": [
        {
          "output_type": "execute_result",
          "data": {
            "text/plain": [
              "Text(0.5, 0, 'Month')"
            ]
          },
          "metadata": {},
          "execution_count": 77
        },
        {
          "output_type": "display_data",
          "data": {
            "text/plain": [
              "<Figure size 720x360 with 1 Axes>"
            ],
            "image/png": "[encoded data removed]"
          },
          "metadata": {
            "needs_background": "light"
          }
        }
      ]
    },
    {
      "cell_type": "markdown",
      "source": [
        "# **You can Clearly observe that throughout The period i.e from 2015 to 2017 we have the Maximum numer of bookings in the month of August and the Least Bookings are being totalled in the Month of December.**"
      ],
      "metadata": {
        "id": "YFt5yanN71d9"
      }
    },
    {
      "cell_type": "markdown",
      "source": [
        "# **4.) Which Month had the maximum number of bookings in each year?**"
      ],
      "metadata": {
        "id": "3iSSWNJ4Vilc"
      }
    },
    {
      "cell_type": "code",
      "source": [
        "year_2015 = hb[hb['arrival_date_year']==2015]\n",
        "year_2016 = hb[hb['arrival_date_year']==2016]\n",
        "year_2017 = hb[hb['arrival_date_year']==2017]\n",
        "\n",
        "monthly_bookings_2015 = year_2015['arrival_date_month'].value_counts()\n",
        "monthly_bookings_2016 = year_2016['arrival_date_month'].value_counts()\n",
        "monthly_bookings_2017 = year_2017['arrival_date_month'].value_counts()\n",
        "\n"
      ],
      "metadata": {
        "id": "Gl3SmpcKVfEc"
      },
      "execution_count": null,
      "outputs": []
    },
    {
      "cell_type": "code",
      "source": [
        "monthly_bookings_2015"
      ],
      "metadata": {
        "colab": {
          "base_uri": "https://localhost:8080/"
        },
        "id": "eKnEnLuDV_-J",
        "outputId": "166712d4-55c0-4d93-b705-6211f2501238"
      },
      "execution_count": null,
      "outputs": [
        {
          "output_type": "execute_result",
          "data": {
            "text/plain": [
              "September    5114\n",
              "October      4957\n",
              "August       3889\n",
              "December     2920\n",
              "July         2776\n",
              "November     2340\n",
              "Name: arrival_date_month, dtype: int64"
            ]
          },
          "metadata": {},
          "execution_count": 79
        }
      ]
    },
    {
      "cell_type": "code",
      "source": [
        "monthly_bookings_2016"
      ],
      "metadata": {
        "colab": {
          "base_uri": "https://localhost:8080/"
        },
        "id": "LMQer3GZWFU5",
        "outputId": "792f41c6-9cb4-4230-c71c-446974bd5935"
      },
      "execution_count": null,
      "outputs": [
        {
          "output_type": "execute_result",
          "data": {
            "text/plain": [
              "October      6203\n",
              "May          5478\n",
              "April        5428\n",
              "September    5394\n",
              "June         5292\n",
              "August       5063\n",
              "March        4824\n",
              "July         4572\n",
              "November     4454\n",
              "February     3891\n",
              "December     3860\n",
              "January      2248\n",
              "Name: arrival_date_month, dtype: int64"
            ]
          },
          "metadata": {},
          "execution_count": 80
        }
      ]
    },
    {
      "cell_type": "code",
      "source": [
        "monthly_bookings_2017"
      ],
      "metadata": {
        "colab": {
          "base_uri": "https://localhost:8080/"
        },
        "id": "HQQzkx0aWGdb",
        "outputId": "300da0cd-f487-4c58-88ec-f098b91dd5ed"
      },
      "execution_count": null,
      "outputs": [
        {
          "output_type": "execute_result",
          "data": {
            "text/plain": [
              "May         6313\n",
              "April       5661\n",
              "June        5647\n",
              "July        5313\n",
              "March       4970\n",
              "August      4925\n",
              "February    4177\n",
              "January     3681\n",
              "Name: arrival_date_month, dtype: int64"
            ]
          },
          "metadata": {},
          "execution_count": 81
        }
      ]
    },
    {
      "cell_type": "code",
      "source": [
        "monthly_bookings_y=hb.groupby(['arrival_date_year','arrival_date_month'])['arrival_date_month'].count().unstack().fillna(0)\n",
        "monthly_bookings_y"
      ],
      "metadata": {
        "colab": {
          "base_uri": "https://localhost:8080/",
          "height": 175
        },
        "id": "rrd7nEa-MxIT",
        "outputId": "5f427341-83fb-48fb-d328-8911f38888d3"
      },
      "execution_count": null,
      "outputs": [
        {
          "output_type": "execute_result",
          "data": {
            "text/plain": [
              "arrival_date_month   April  August  December  February  January    July  \\\n",
              "arrival_date_year                                                         \n",
              "2015                   0.0  3889.0    2920.0       0.0      0.0  2776.0   \n",
              "2016                5428.0  5063.0    3860.0    3891.0   2248.0  4572.0   \n",
              "2017                5661.0  4925.0       0.0    4177.0   3681.0  5313.0   \n",
              "\n",
              "arrival_date_month    June   March     May  November  October  September  \n",
              "arrival_date_year                                                         \n",
              "2015                   0.0     0.0     0.0    2340.0   4957.0     5114.0  \n",
              "2016                5292.0  4824.0  5478.0    4454.0   6203.0     5394.0  \n",
              "2017                5647.0  4970.0  6313.0       0.0      0.0        0.0  "
            ],
            "text/html": [
              "\n",
              "  <div id=\"df-c3532dd3-3575-4512-8e84-8c3cbf98e75a\">\n",
              "    <div class=\"colab-df-container\">\n",
              "      <div>\n",
              "<style scoped>\n",
              "    .dataframe tbody tr th:only-of-type {\n",
              "        vertical-align: middle;\n",
              "    }\n",
              "\n",
              "    .dataframe tbody tr th {\n",
              "        vertical-align: top;\n",
              "    }\n",
              "\n",
              "    .dataframe thead th {\n",
              "        text-align: right;\n",
              "    }\n",
              "</style>\n",
              "<table border=\"1\" class=\"dataframe\">\n",
              "  <thead>\n",
              "    <tr style=\"text-align: right;\">\n",
              "      <th>arrival_date_month</th>\n",
              "      <th>April</th>\n",
              "      <th>August</th>\n",
              "      <th>December</th>\n",
              "      <th>February</th>\n",
              "      <th>January</th>\n",
              "      <th>July</th>\n",
              "      <th>June</th>\n",
              "      <th>March</th>\n",
              "      <th>May</th>\n",
              "      <th>November</th>\n",
              "      <th>October</th>\n",
              "      <th>September</th>\n",
              "    </tr>\n",
              "    <tr>\n",
              "      <th>arrival_date_year</th>\n",
              "      <th></th>\n",
              "      <th></th>\n",
              "      <th></th>\n",
              "      <th></th>\n",
              "      <th></th>\n",
              "      <th></th>\n",
              "      <th></th>\n",
              "      <th></th>\n",
              "      <th></th>\n",
              "      <th></th>\n",
              "      <th></th>\n",
              "      <th></th>\n",
              "    </tr>\n",
              "  </thead>\n",
              "  <tbody>\n",
              "    <tr>\n",
              "      <th>2015</th>\n",
              "      <td>0.0</td>\n",
              "      <td>3889.0</td>\n",
              "      <td>2920.0</td>\n",
              "      <td>0.0</td>\n",
              "      <td>0.0</td>\n",
              "      <td>2776.0</td>\n",
              "      <td>0.0</td>\n",
              "      <td>0.0</td>\n",
              "      <td>0.0</td>\n",
              "      <td>2340.0</td>\n",
              "      <td>4957.0</td>\n",
              "      <td>5114.0</td>\n",
              "    </tr>\n",
              "    <tr>\n",
              "      <th>2016</th>\n",
              "      <td>5428.0</td>\n",
              "      <td>5063.0</td>\n",
              "      <td>3860.0</td>\n",
              "      <td>3891.0</td>\n",
              "      <td>2248.0</td>\n",
              "      <td>4572.0</td>\n",
              "      <td>5292.0</td>\n",
              "      <td>4824.0</td>\n",
              "      <td>5478.0</td>\n",
              "      <td>4454.0</td>\n",
              "      <td>6203.0</td>\n",
              "      <td>5394.0</td>\n",
              "    </tr>\n",
              "    <tr>\n",
              "      <th>2017</th>\n",
              "      <td>5661.0</td>\n",
              "      <td>4925.0</td>\n",
              "      <td>0.0</td>\n",
              "      <td>4177.0</td>\n",
              "      <td>3681.0</td>\n",
              "      <td>5313.0</td>\n",
              "      <td>5647.0</td>\n",
              "      <td>4970.0</td>\n",
              "      <td>6313.0</td>\n",
              "      <td>0.0</td>\n",
              "      <td>0.0</td>\n",
              "      <td>0.0</td>\n",
              "    </tr>\n",
              "  </tbody>\n",
              "</table>\n",
              "</div>\n",
              "      <button class=\"colab-df-convert\" onclick=\"convertToInteractive('df-c3532dd3-3575-4512-8e84-8c3cbf98e75a')\"\n",
              "              title=\"Convert this dataframe to an interactive table.\"\n",
              "              style=\"display:none;\">\n",
              "        \n",
              "  <svg xmlns=\"http://www.w3.org/2000/svg\" height=\"24px\"viewBox=\"0 0 24 24\"\n",
              "       width=\"24px\">\n",
              "    <path d=\"M0 0h24v24H0V0z\" fill=\"none\"/>\n",
              "    <path d=\"M18.56 5.44l.94 2.06.94-2.06 2.06-.94-2.06-.94-.94-2.06-.94 2.06-2.06.94zm-11 1L8.5 8.5l.94-2.06 2.06-.94-2.06-.94L8.5 2.5l-.94 2.06-2.06.94zm10 10l.94 2.06.94-2.06 2.06-.94-2.06-.94-.94-2.06-.94 2.06-2.06.94z\"/><path d=\"M17.41 7.96l-1.37-1.37c-.4-.4-.92-.59-1.43-.59-.52 0-1.04.2-1.43.59L10.3 9.45l-7.72 7.72c-.78.78-.78 2.05 0 2.83L4 21.41c.39.39.9.59 1.41.59.51 0 1.02-.2 1.41-.59l7.78-7.78 2.81-2.81c.8-.78.8-2.07 0-2.86zM5.41 20L4 18.59l7.72-7.72 1.47 1.35L5.41 20z\"/>\n",
              "  </svg>\n",
              "      </button>\n",
              "      \n",
              "  <style>\n",
              "    .colab-df-container {\n",
              "      display:flex;\n",
              "      flex-wrap:wrap;\n",
              "      gap: 12px;\n",
              "    }\n",
              "\n",
              "    .colab-df-convert {\n",
              "      background-color: #E8F0FE;\n",
              "      border: none;\n",
              "      border-radius: 50%;\n",
              "      cursor: pointer;\n",
              "      display: none;\n",
              "      fill: #1967D2;\n",
              "      height: 32px;\n",
              "      padding: 0 0 0 0;\n",
              "      width: 32px;\n",
              "    }\n",
              "\n",
              "    .colab-df-convert:hover {\n",
              "      background-color: #E2EBFA;\n",
              "      box-shadow: 0px 1px 2px rgba(60, 64, 67, 0.3), 0px 1px 3px 1px rgba(60, 64, 67, 0.15);\n",
              "      fill: #174EA6;\n",
              "    }\n",
              "\n",
              "    [theme=dark] .colab-df-convert {\n",
              "      background-color: #3B4455;\n",
              "      fill: #D2E3FC;\n",
              "    }\n",
              "\n",
              "    [theme=dark] .colab-df-convert:hover {\n",
              "      background-color: #434B5C;\n",
              "      box-shadow: 0px 1px 3px 1px rgba(0, 0, 0, 0.15);\n",
              "      filter: drop-shadow(0px 1px 2px rgba(0, 0, 0, 0.3));\n",
              "      fill: #FFFFFF;\n",
              "    }\n",
              "  </style>\n",
              "\n",
              "      <script>\n",
              "        const buttonEl =\n",
              "          document.querySelector('#df-c3532dd3-3575-4512-8e84-8c3cbf98e75a button.colab-df-convert');\n",
              "        buttonEl.style.display =\n",
              "          google.colab.kernel.accessAllowed ? 'block' : 'none';\n",
              "\n",
              "        async function convertToInteractive(key) {\n",
              "          const element = document.querySelector('#df-c3532dd3-3575-4512-8e84-8c3cbf98e75a');\n",
              "          const dataTable =\n",
              "            await google.colab.kernel.invokeFunction('convertToInteractive',\n",
              "                                                     [key], {});\n",
              "          if (!dataTable) return;\n",
              "\n",
              "          const docLinkHtml = 'Like what you see? Visit the ' +\n",
              "            '<a target=\"_blank\" href=https://colab.research.google.com/notebooks/data_table.ipynb>data table notebook</a>'\n",
              "            + ' to learn more about interactive tables.';\n",
              "          element.innerHTML = '';\n",
              "          dataTable['output_type'] = 'display_data';\n",
              "          await google.colab.output.renderOutput(dataTable, element);\n",
              "          const docLink = document.createElement('div');\n",
              "          docLink.innerHTML = docLinkHtml;\n",
              "          element.appendChild(docLink);\n",
              "        }\n",
              "      </script>\n",
              "    </div>\n",
              "  </div>\n",
              "  "
            ]
          },
          "metadata": {},
          "execution_count": 90
        }
      ]
    },
    {
      "cell_type": "code",
      "source": [
        "\n",
        "ax = monthly_bookings_y.plot.bar(figsize = (15,10),fontsize = 14)\n",
        "\n",
        "# Set the title\n",
        "ax.set_title(\"Total Yearly bookings\", fontsize = 20)\n",
        "\n",
        "# Set x and y-labels\n",
        "ax.set_xlabel(\"Year\", fontsize = 15)\n",
        "ax.set_ylabel(\"Number of Bookings \", fontsize = 15)"
      ],
      "metadata": {
        "colab": {
          "base_uri": "https://localhost:8080/",
          "height": 674
        },
        "id": "mKSkhdVpC2rT",
        "outputId": "87850425-c575-487f-bba1-772f6555b2db"
      },
      "execution_count": null,
      "outputs": [
        {
          "output_type": "execute_result",
          "data": {
            "text/plain": [
              "Text(0, 0.5, 'Number of Bookings ')"
            ]
          },
          "metadata": {},
          "execution_count": 89
        },
        {
          "output_type": "display_data",
          "data": {
            "text/plain": [
              "<Figure size 1080x720 with 1 Axes>"
            ],
            "image/png": "[encoded data removed]"
          },
          "metadata": {
            "needs_background": "light"
          }
        }
      ]
    },
    {
      "cell_type": "markdown",
      "source": [
        "\n",
        "# **1.) September month with 5,114 bookings had the Maximum Number of bookings in the year 2015.**\n",
        "\n",
        "# **2.) October month with 6,203 bookings had the Maximum Number of bookings in the year 2016.**\n",
        "\n",
        "# **3.) May month with 6,313 bookings had the Maximum Number of bookings in the year 2017.**"
      ],
      "metadata": {
        "id": "Tpan3c6gXYfF"
      }
    },
    {
      "cell_type": "markdown",
      "source": [
        "# **5.) Which Week had the maximum number of bookings Throughout as well as in the year with maximum bookings i.e (YEAR-2016)?**"
      ],
      "metadata": {
        "id": "DTtSREEEnAD6"
      }
    },
    {
      "cell_type": "code",
      "source": [
        "\n",
        "week_throughout = hb['arrival_date_week_number'].value_counts()\n",
        "week_2016 = year_2016['arrival_date_week_number'].value_counts()"
      ],
      "metadata": {
        "id": "Xx5Zrg-hmrdm"
      },
      "execution_count": null,
      "outputs": []
    },
    {
      "cell_type": "code",
      "source": [
        "# Week with maximum number of bookings throughout\n",
        "week_throughout.sort_values()"
      ],
      "metadata": {
        "colab": {
          "base_uri": "https://localhost:8080/"
        },
        "id": "r1Nac6sFm4vN",
        "outputId": "03859780-b8cf-4937-db9e-903e471b6116"
      },
      "execution_count": null,
      "outputs": [
        {
          "output_type": "execute_result",
          "data": {
            "text/plain": [
              "51     785\n",
              "1      862\n",
              "2      944\n",
              "3     1047\n",
              "50    1051\n",
              "52    1060\n",
              "5     1100\n",
              "4     1125\n",
              "46    1141\n",
              "49    1168\n",
              "48    1199\n",
              "47    1288\n",
              "6     1299\n",
              "45    1313\n",
              "53    1423\n",
              "40    1426\n",
              "42    1445\n",
              "37    1474\n",
              "8     1524\n",
              "44    1550\n",
              "12    1573\n",
              "9     1579\n",
              "39    1590\n",
              "43    1605\n",
              "36    1626\n",
              "10    1628\n",
              "7     1629\n",
              "38    1633\n",
              "11    1658\n",
              "41    1663\n",
              "14    1693\n",
              "16    1735\n",
              "26    1739\n",
              "24    1746\n",
              "22    1753\n",
              "25    1786\n",
              "19    1813\n",
              "13    1817\n",
              "20    1841\n",
              "23    1871\n",
              "17    1875\n",
              "15    1989\n",
              "21    2041\n",
              "18    2087\n",
              "35    2104\n",
              "27    2162\n",
              "29    2196\n",
              "31    2286\n",
              "30    2331\n",
              "28    2343\n",
              "32    2446\n",
              "34    2485\n",
              "33    2793\n",
              "Name: arrival_date_week_number, dtype: int64"
            ]
          },
          "metadata": {},
          "execution_count": 122
        }
      ]
    },
    {
      "cell_type": "code",
      "source": [
        "# Week with maximum number of bookings in the Year 2016\n",
        "week_2016.sort_values()"
      ],
      "metadata": {
        "colab": {
          "base_uri": "https://localhost:8080/"
        },
        "id": "l-La3XREm6Hg",
        "outputId": "a8459479-c795-4df2-c4b6-f2b2d771cfa7"
      },
      "execution_count": null,
      "outputs": [
        {
          "output_type": "execute_result",
          "data": {
            "text/plain": [
              "1      227\n",
              "2      397\n",
              "3      449\n",
              "5      569\n",
              "4      573\n",
              "51     618\n",
              "6      696\n",
              "52     705\n",
              "48     890\n",
              "50     898\n",
              "11     899\n",
              "49     937\n",
              "7      949\n",
              "8      993\n",
              "9      996\n",
              "47    1001\n",
              "29    1001\n",
              "14    1003\n",
              "28    1014\n",
              "10    1027\n",
              "31    1030\n",
              "12    1050\n",
              "26    1059\n",
              "22    1060\n",
              "53    1077\n",
              "35    1087\n",
              "37    1097\n",
              "32    1099\n",
              "30    1106\n",
              "27    1126\n",
              "19    1129\n",
              "36    1136\n",
              "46    1153\n",
              "16    1176\n",
              "33    1185\n",
              "24    1203\n",
              "34    1215\n",
              "20    1263\n",
              "15    1270\n",
              "39    1277\n",
              "38    1290\n",
              "41    1298\n",
              "23    1317\n",
              "17    1339\n",
              "13    1341\n",
              "40    1369\n",
              "45    1396\n",
              "44    1406\n",
              "43    1420\n",
              "18    1437\n",
              "21    1452\n",
              "25    1468\n",
              "42    1534\n",
              "Name: arrival_date_week_number, dtype: int64"
            ]
          },
          "metadata": {},
          "execution_count": 123
        }
      ]
    },
    {
      "cell_type": "code",
      "source": [
        "\n",
        "ax = week_throughout.plot.bar(figsize = (15,10),fontsize = 14)\n",
        "\n",
        "# Set the title\n",
        "ax.set_title(\"Total Yearly bookings\", fontsize = 20)\n",
        "\n",
        "# Set x and y-labels\n",
        "ax.set_xlabel(\"Weeks\", fontsize = 15)\n",
        "ax.set_ylabel(\"Number of Bookings \", fontsize = 15)"
      ],
      "metadata": {
        "colab": {
          "base_uri": "https://localhost:8080/",
          "height": 656
        },
        "id": "1kkXQ9ggcMHJ",
        "outputId": "46556e6e-5a00-4071-ec4f-8a3ea2bc108f"
      },
      "execution_count": null,
      "outputs": [
        {
          "output_type": "execute_result",
          "data": {
            "text/plain": [
              "Text(0, 0.5, 'Number of Bookings ')"
            ]
          },
          "metadata": {},
          "execution_count": 125
        },
        {
          "output_type": "display_data",
          "data": {
            "text/plain": [
              "<Figure size 1080x720 with 1 Axes>"
            ],
            "image/png": "[encoded data removed]"
          },
          "metadata": {
            "needs_background": "light"
          }
        }
      ]
    },
    {
      "cell_type": "code",
      "source": [
        "\n",
        "ax = week_2016.plot.bar(figsize = (15,10),fontsize = 14)\n",
        "\n",
        "# Set the title\n",
        "ax.set_title(\"Yearly bookings 2016\", fontsize = 20)\n",
        "\n",
        "# Set x and y-labels\n",
        "ax.set_xlabel(\"Weeks\", fontsize = 15)\n",
        "ax.set_ylabel(\"Number of Bookings \", fontsize = 15)"
      ],
      "metadata": {
        "colab": {
          "base_uri": "https://localhost:8080/",
          "height": 656
        },
        "id": "yTlt-PcwOoq0",
        "outputId": "bac884e6-4050-49e6-e795-16b82eef1072"
      },
      "execution_count": null,
      "outputs": [
        {
          "output_type": "execute_result",
          "data": {
            "text/plain": [
              "Text(0, 0.5, 'Number of Bookings ')"
            ]
          },
          "metadata": {},
          "execution_count": 126
        },
        {
          "output_type": "display_data",
          "data": {
            "text/plain": [
              "<Figure size 1080x720 with 1 Axes>"
            ],
            "image/png": "[encoded data removed]"
          },
          "metadata": {
            "needs_background": "light"
          }
        }
      ]
    },
    {
      "cell_type": "markdown",
      "source": [
        "# **6.) What are the types of meals that the corporates prefer in their visit?**"
      ],
      "metadata": {
        "id": "hObX1rrCPnLf"
      }
    },
    {
      "cell_type": "code",
      "source": [
        "hb_corporate=hb[hb['market_segment']=='Corporate']\n",
        "corporate_meals=hb_corporate.groupby(['meal'])['meal'].count()\n",
        "corporate_meals"
      ],
      "metadata": {
        "colab": {
          "base_uri": "https://localhost:8080/"
        },
        "id": "cXryQq22SMjg",
        "outputId": "5fc13216-365c-45bf-cb5f-4db4d3d5fd06"
      },
      "execution_count": null,
      "outputs": [
        {
          "output_type": "execute_result",
          "data": {
            "text/plain": [
              "meal\n",
              "BB           5150\n",
              "FB             14\n",
              "HB             83\n",
              "SC             33\n",
              "Undefined      15\n",
              "Name: meal, dtype: int64"
            ]
          },
          "metadata": {},
          "execution_count": 101
        }
      ]
    },
    {
      "cell_type": "code",
      "source": [
        "corporate_meals.plot(kind = 'pie', figsize = (20,10), title = 'Meal chosen by corporates')"
      ],
      "metadata": {
        "colab": {
          "base_uri": "https://localhost:8080/",
          "height": 608
        },
        "id": "1jEXoY3RP34r",
        "outputId": "6f80cee4-23a5-4c21-dd48-82f68c495bd5"
      },
      "execution_count": null,
      "outputs": [
        {
          "output_type": "execute_result",
          "data": {
            "text/plain": [
              "<matplotlib.axes._subplots.AxesSubplot at 0x7f9c018de8d0>"
            ]
          },
          "metadata": {},
          "execution_count": 102
        },
        {
          "output_type": "display_data",
          "data": {
            "text/plain": [
              "<Figure size 1440x720 with 1 Axes>"
            ],
            "image/png": "[encoded data removed]"
          },
          "metadata": {}
        }
      ]
    },
    {
      "cell_type": "markdown",
      "source": [
        "# **Seems that corporates mostly prefer Bed and Breakfast package at the hotel, i.e. they check-in at night and check-out by the next morning.**\n",
        "\n"
      ],
      "metadata": {
        "id": "KZI7atkrg9O1"
      }
    },
    {
      "cell_type": "markdown",
      "source": [
        "# **7.)\tWhich hotel had Most Number of cancellations throughout?**"
      ],
      "metadata": {
        "id": "mJJsQPRCWRL3"
      }
    },
    {
      "cell_type": "code",
      "source": [
        "cancelled_bookings = hb[hb['is_canceled'] != 0]\n",
        "t_cancelled_bookings=cancelled_bookings[['is_canceled','hotel']].value_counts()\n",
        "t_cancelled_bookings"
      ],
      "metadata": {
        "colab": {
          "base_uri": "https://localhost:8080/"
        },
        "id": "Iho0XCAeK84u",
        "outputId": "e584443b-940e-4afd-8231-8ae46bd66dc2"
      },
      "execution_count": null,
      "outputs": [
        {
          "output_type": "execute_result",
          "data": {
            "text/plain": [
              "is_canceled  hotel       \n",
              "1            City Hotel      33102\n",
              "             Resort Hotel    11122\n",
              "dtype: int64"
            ]
          },
          "metadata": {},
          "execution_count": 157
        }
      ]
    },
    {
      "cell_type": "code",
      "source": [
        "t_cancelled_bookings.plot.bar()"
      ],
      "metadata": {
        "colab": {
          "base_uri": "https://localhost:8080/",
          "height": 423
        },
        "id": "L7WGWmccgL0-",
        "outputId": "c21a97b4-23b6-441f-aa66-627f71e712d9"
      },
      "execution_count": null,
      "outputs": [
        {
          "output_type": "execute_result",
          "data": {
            "text/plain": [
              "<matplotlib.axes._subplots.AxesSubplot at 0x7f9bff026750>"
            ]
          },
          "metadata": {},
          "execution_count": 158
        },
        {
          "output_type": "display_data",
          "data": {
            "text/plain": [
              "<Figure size 720x360 with 1 Axes>"
            ],
            "image/png": "[encoded data removed]"
          },
          "metadata": {
            "needs_background": "light"
          }
        }
      ]
    },
    {
      "cell_type": "markdown",
      "source": [
        "# **City Hotels had Maximum cancellations over the Years**"
      ],
      "metadata": {
        "id": "kFaS2F0ZggIm"
      }
    },
    {
      "cell_type": "markdown",
      "source": [
        "# **8.) Which year has the highest number of cancellations Hotel-Wise ?**"
      ],
      "metadata": {
        "id": "0XBPjKQkZQ2r"
      }
    },
    {
      "cell_type": "code",
      "source": [
        "\n",
        "cancelled_bookings_2015 =year_2015[year_2015['is_canceled'] != 0]\n",
        "cancelled_bookings_2016 = year_2016[year_2016['is_canceled'] != 0]\n",
        "cancelled_bookings_2017 = year_2017[year_2017['is_canceled'] != 0]\n",
        "\n",
        "cancelled_2015=cancelled_bookings_2015['is_canceled'].value_counts()\n",
        "cancelled_2016=cancelled_bookings_2016['is_canceled'].value_counts()\n",
        "cancelled_2017=cancelled_bookings_2017['is_canceled'].value_counts()"
      ],
      "metadata": {
        "id": "kA6_5qbCaI5f"
      },
      "execution_count": null,
      "outputs": []
    },
    {
      "cell_type": "code",
      "source": [
        "cancelled_2015\n"
      ],
      "metadata": {
        "colab": {
          "base_uri": "https://localhost:8080/"
        },
        "id": "uRs1qM9baXQk",
        "outputId": "ae54132e-f947-461f-ab11-302e8cac1cc0"
      },
      "execution_count": null,
      "outputs": [
        {
          "output_type": "execute_result",
          "data": {
            "text/plain": [
              "1    8142\n",
              "Name: is_canceled, dtype: int64"
            ]
          },
          "metadata": {},
          "execution_count": 160
        }
      ]
    },
    {
      "cell_type": "code",
      "source": [
        "cancelled_2016\n"
      ],
      "metadata": {
        "colab": {
          "base_uri": "https://localhost:8080/"
        },
        "id": "DTVNKLe2aX25",
        "outputId": "8388da6a-1d0d-4003-cb79-48bae5d97998"
      },
      "execution_count": null,
      "outputs": [
        {
          "output_type": "execute_result",
          "data": {
            "text/plain": [
              "1    20337\n",
              "Name: is_canceled, dtype: int64"
            ]
          },
          "metadata": {},
          "execution_count": 161
        }
      ]
    },
    {
      "cell_type": "code",
      "source": [
        "cancelled_2017"
      ],
      "metadata": {
        "colab": {
          "base_uri": "https://localhost:8080/"
        },
        "id": "wAdi7qlDaZGp",
        "outputId": "a31e8baa-2855-445c-b64d-6245d2357c8f"
      },
      "execution_count": null,
      "outputs": [
        {
          "output_type": "execute_result",
          "data": {
            "text/plain": [
              "1    15745\n",
              "Name: is_canceled, dtype: int64"
            ]
          },
          "metadata": {},
          "execution_count": 162
        }
      ]
    },
    {
      "cell_type": "code",
      "source": [
        "cancelled_hotels=hb.groupby(['arrival_date_year','hotel','is_canceled'])['is_canceled'].count().unstack()\n",
        "cancelled_hotels"
      ],
      "metadata": {
        "colab": {
          "base_uri": "https://localhost:8080/",
          "height": 269
        },
        "id": "0aEqociicH7I",
        "outputId": "e45ef658-734d-4ea3-a2af-8554e8b70504"
      },
      "execution_count": null,
      "outputs": [
        {
          "output_type": "execute_result",
          "data": {
            "text/plain": [
              "is_canceled                         0      1\n",
              "arrival_date_year hotel                     \n",
              "2015              City Hotel     7678   6004\n",
              "                  Resort Hotel   6176   2138\n",
              "2016              City Hotel    22733  15407\n",
              "                  Resort Hotel  13637   4930\n",
              "2017              City Hotel    15817  11691\n",
              "                  Resort Hotel   9125   4054"
            ],
            "text/html": [
              "\n",
              "  <div id=\"df-9204caf7-0338-41ac-8327-0c62daacacb8\">\n",
              "    <div class=\"colab-df-container\">\n",
              "      <div>\n",
              "<style scoped>\n",
              "    .dataframe tbody tr th:only-of-type {\n",
              "        vertical-align: middle;\n",
              "    }\n",
              "\n",
              "    .dataframe tbody tr th {\n",
              "        vertical-align: top;\n",
              "    }\n",
              "\n",
              "    .dataframe thead th {\n",
              "        text-align: right;\n",
              "    }\n",
              "</style>\n",
              "<table border=\"1\" class=\"dataframe\">\n",
              "  <thead>\n",
              "    <tr style=\"text-align: right;\">\n",
              "      <th></th>\n",
              "      <th>is_canceled</th>\n",
              "      <th>0</th>\n",
              "      <th>1</th>\n",
              "    </tr>\n",
              "    <tr>\n",
              "      <th>arrival_date_year</th>\n",
              "      <th>hotel</th>\n",
              "      <th></th>\n",
              "      <th></th>\n",
              "    </tr>\n",
              "  </thead>\n",
              "  <tbody>\n",
              "    <tr>\n",
              "      <th rowspan=\"2\" valign=\"top\">2015</th>\n",
              "      <th>City Hotel</th>\n",
              "      <td>7678</td>\n",
              "      <td>6004</td>\n",
              "    </tr>\n",
              "    <tr>\n",
              "      <th>Resort Hotel</th>\n",
              "      <td>6176</td>\n",
              "      <td>2138</td>\n",
              "    </tr>\n",
              "    <tr>\n",
              "      <th rowspan=\"2\" valign=\"top\">2016</th>\n",
              "      <th>City Hotel</th>\n",
              "      <td>22733</td>\n",
              "      <td>15407</td>\n",
              "    </tr>\n",
              "    <tr>\n",
              "      <th>Resort Hotel</th>\n",
              "      <td>13637</td>\n",
              "      <td>4930</td>\n",
              "    </tr>\n",
              "    <tr>\n",
              "      <th rowspan=\"2\" valign=\"top\">2017</th>\n",
              "      <th>City Hotel</th>\n",
              "      <td>15817</td>\n",
              "      <td>11691</td>\n",
              "    </tr>\n",
              "    <tr>\n",
              "      <th>Resort Hotel</th>\n",
              "      <td>9125</td>\n",
              "      <td>4054</td>\n",
              "    </tr>\n",
              "  </tbody>\n",
              "</table>\n",
              "</div>\n",
              "      <button class=\"colab-df-convert\" onclick=\"convertToInteractive('df-9204caf7-0338-41ac-8327-0c62daacacb8')\"\n",
              "              title=\"Convert this dataframe to an interactive table.\"\n",
              "              style=\"display:none;\">\n",
              "        \n",
              "  <svg xmlns=\"http://www.w3.org/2000/svg\" height=\"24px\"viewBox=\"0 0 24 24\"\n",
              "       width=\"24px\">\n",
              "    <path d=\"M0 0h24v24H0V0z\" fill=\"none\"/>\n",
              "    <path d=\"M18.56 5.44l.94 2.06.94-2.06 2.06-.94-2.06-.94-.94-2.06-.94 2.06-2.06.94zm-11 1L8.5 8.5l.94-2.06 2.06-.94-2.06-.94L8.5 2.5l-.94 2.06-2.06.94zm10 10l.94 2.06.94-2.06 2.06-.94-2.06-.94-.94-2.06-.94 2.06-2.06.94z\"/><path d=\"M17.41 7.96l-1.37-1.37c-.4-.4-.92-.59-1.43-.59-.52 0-1.04.2-1.43.59L10.3 9.45l-7.72 7.72c-.78.78-.78 2.05 0 2.83L4 21.41c.39.39.9.59 1.41.59.51 0 1.02-.2 1.41-.59l7.78-7.78 2.81-2.81c.8-.78.8-2.07 0-2.86zM5.41 20L4 18.59l7.72-7.72 1.47 1.35L5.41 20z\"/>\n",
              "  </svg>\n",
              "      </button>\n",
              "      \n",
              "  <style>\n",
              "    .colab-df-container {\n",
              "      display:flex;\n",
              "      flex-wrap:wrap;\n",
              "      gap: 12px;\n",
              "    }\n",
              "\n",
              "    .colab-df-convert {\n",
              "      background-color: #E8F0FE;\n",
              "      border: none;\n",
              "      border-radius: 50%;\n",
              "      cursor: pointer;\n",
              "      display: none;\n",
              "      fill: #1967D2;\n",
              "      height: 32px;\n",
              "      padding: 0 0 0 0;\n",
              "      width: 32px;\n",
              "    }\n",
              "\n",
              "    .colab-df-convert:hover {\n",
              "      background-color: #E2EBFA;\n",
              "      box-shadow: 0px 1px 2px rgba(60, 64, 67, 0.3), 0px 1px 3px 1px rgba(60, 64, 67, 0.15);\n",
              "      fill: #174EA6;\n",
              "    }\n",
              "\n",
              "    [theme=dark] .colab-df-convert {\n",
              "      background-color: #3B4455;\n",
              "      fill: #D2E3FC;\n",
              "    }\n",
              "\n",
              "    [theme=dark] .colab-df-convert:hover {\n",
              "      background-color: #434B5C;\n",
              "      box-shadow: 0px 1px 3px 1px rgba(0, 0, 0, 0.15);\n",
              "      filter: drop-shadow(0px 1px 2px rgba(0, 0, 0, 0.3));\n",
              "      fill: #FFFFFF;\n",
              "    }\n",
              "  </style>\n",
              "\n",
              "      <script>\n",
              "        const buttonEl =\n",
              "          document.querySelector('#df-9204caf7-0338-41ac-8327-0c62daacacb8 button.colab-df-convert');\n",
              "        buttonEl.style.display =\n",
              "          google.colab.kernel.accessAllowed ? 'block' : 'none';\n",
              "\n",
              "        async function convertToInteractive(key) {\n",
              "          const element = document.querySelector('#df-9204caf7-0338-41ac-8327-0c62daacacb8');\n",
              "          const dataTable =\n",
              "            await google.colab.kernel.invokeFunction('convertToInteractive',\n",
              "                                                     [key], {});\n",
              "          if (!dataTable) return;\n",
              "\n",
              "          const docLinkHtml = 'Like what you see? Visit the ' +\n",
              "            '<a target=\"_blank\" href=https://colab.research.google.com/notebooks/data_table.ipynb>data table notebook</a>'\n",
              "            + ' to learn more about interactive tables.';\n",
              "          element.innerHTML = '';\n",
              "          dataTable['output_type'] = 'display_data';\n",
              "          await google.colab.output.renderOutput(dataTable, element);\n",
              "          const docLink = document.createElement('div');\n",
              "          docLink.innerHTML = docLinkHtml;\n",
              "          element.appendChild(docLink);\n",
              "        }\n",
              "      </script>\n",
              "    </div>\n",
              "  </div>\n",
              "  "
            ]
          },
          "metadata": {},
          "execution_count": 163
        }
      ]
    },
    {
      "cell_type": "code",
      "source": [
        "ax = cancelled_hotels.plot.bar(figsize = (10,5),fontsize = 14)\n",
        "\n",
        "# Set the title\n",
        "ax.set_title(\"Bookings Yearly Hotel-Wise\", fontsize = 20)\n",
        "\n",
        "# Set x and y-labels\n",
        "ax.set_xlabel(\"Year\", fontsize = 15)\n",
        "ax.set_ylabel(\"Number of Reservations \", fontsize = 15)"
      ],
      "metadata": {
        "colab": {
          "base_uri": "https://localhost:8080/",
          "height": 509
        },
        "id": "DyqfW696iFA8",
        "outputId": "267b99d5-3687-4464-f7c6-9d86660b9cfc"
      },
      "execution_count": null,
      "outputs": [
        {
          "output_type": "execute_result",
          "data": {
            "text/plain": [
              "Text(0, 0.5, 'Number of Reservations ')"
            ]
          },
          "metadata": {},
          "execution_count": 165
        },
        {
          "output_type": "display_data",
          "data": {
            "text/plain": [
              "<Figure size 720x360 with 1 Axes>"
            ],
            "image/png": "[encoded data removed]"
          },
          "metadata": {
            "needs_background": "light"
          }
        }
      ]
    },
    {
      "cell_type": "markdown",
      "source": [
        "# **The Diagram seconds the conclusion that Year 2016 had most number of cancellations for City Hotel as well as Resort Hotel**"
      ],
      "metadata": {
        "id": "psh2CWUnjyNg"
      }
    },
    {
      "cell_type": "markdown",
      "source": [
        "# **9.) Which is the Most Reserved Room Type by customer ?**"
      ],
      "metadata": {
        "id": "oCHLKKSlcftq"
      }
    },
    {
      "cell_type": "code",
      "source": [
        "hb['reserved_room_type'].value_counts()"
      ],
      "metadata": {
        "colab": {
          "base_uri": "https://localhost:8080/"
        },
        "id": "XrvjG-vgMwwc",
        "outputId": "6b4a0ad5-c1f3-4537-9ae3-39bdfbaa96ef"
      },
      "execution_count": null,
      "outputs": [
        {
          "output_type": "execute_result",
          "data": {
            "text/plain": [
              "A    56512\n",
              "D    17390\n",
              "E     6045\n",
              "F     2821\n",
              "G     2052\n",
              "B      997\n",
              "C      915\n",
              "H      596\n",
              "L        6\n",
              "P        6\n",
              "Name: reserved_room_type, dtype: int64"
            ]
          },
          "metadata": {},
          "execution_count": 117
        }
      ]
    },
    {
      "cell_type": "code",
      "source": [
        "#plot reserved room type by customers\n",
        "plt.figure(figsize=(8,6))\n",
        "sns.barplot(x=hb['reserved_room_type'].value_counts().keys(),y=hb['reserved_room_type'].value_counts(),palette='rocket')\n",
        "plt.xlabel('Room type')\n",
        "plt.ylabel('Count')\n",
        "plt.title('Reserved room type by customer');"
      ],
      "metadata": {
        "colab": {
          "base_uri": "https://localhost:8080/",
          "height": 404
        },
        "id": "kVya1LJwYhqx",
        "outputId": "6f47114a-d9ac-4d67-e847-96cbfe7d5bdc"
      },
      "execution_count": null,
      "outputs": [
        {
          "output_type": "display_data",
          "data": {
            "text/plain": [
              "<Figure size 576x432 with 1 Axes>"
            ],
            "image/png": "[encoded data removed]"
          },
          "metadata": {
            "needs_background": "light"
          }
        }
      ]
    },
    {
      "cell_type": "markdown",
      "source": [
        "# **Most reserved room type is A.**\n",
        "\n",
        "#**Least preferred are L and P.**"
      ],
      "metadata": {
        "id": "4RdaxuTRmGb5"
      }
    },
    {
      "cell_type": "markdown",
      "source": [
        "# **10.) Which countries had most number of customers ?**"
      ],
      "metadata": {
        "id": "YxwrjVPGiSB2"
      }
    },
    {
      "cell_type": "code",
      "source": [
        "c=hb.groupby(['country','hotel'])['country'].count().sort_values(ascending=False).head()\n",
        "c"
      ],
      "metadata": {
        "colab": {
          "base_uri": "https://localhost:8080/"
        },
        "id": "yCs7pCFHgfas",
        "outputId": "23d0f675-3614-42c7-d242-7a1b409c6f92"
      },
      "execution_count": null,
      "outputs": [
        {
          "output_type": "execute_result",
          "data": {
            "text/plain": [
              "country  hotel       \n",
              "PRT      Resort Hotel    14225\n",
              "         City Hotel      13204\n",
              "FRA      City Hotel       7410\n",
              "GBR      Resort Hotel     5904\n",
              "         City Hotel       4527\n",
              "Name: country, dtype: int64"
            ]
          },
          "metadata": {},
          "execution_count": 104
        }
      ]
    },
    {
      "cell_type": "code",
      "source": [
        "c=hb['country'].value_counts().reset_index()\n",
        "c.columns=['country','hotel']\n",
        "d=c.head()\n",
        "d"
      ],
      "metadata": {
        "id": "Lrcj05D1L8Vt",
        "outputId": "34f2c13a-97b0-4928-8f63-7da843248e2c",
        "colab": {
          "base_uri": "https://localhost:8080/",
          "height": 206
        }
      },
      "execution_count": null,
      "outputs": [
        {
          "output_type": "execute_result",
          "data": {
            "text/plain": [
              "  country  hotel\n",
              "0     PRT  27429\n",
              "1     GBR  10431\n",
              "2     FRA   8835\n",
              "3     ESP   7243\n",
              "4     DEU   5385"
            ],
            "text/html": [
              "\n",
              "  <div id=\"df-1b8354f7-10c0-404d-a7c6-2c95169c044f\">\n",
              "    <div class=\"colab-df-container\">\n",
              "      <div>\n",
              "<style scoped>\n",
              "    .dataframe tbody tr th:only-of-type {\n",
              "        vertical-align: middle;\n",
              "    }\n",
              "\n",
              "    .dataframe tbody tr th {\n",
              "        vertical-align: top;\n",
              "    }\n",
              "\n",
              "    .dataframe thead th {\n",
              "        text-align: right;\n",
              "    }\n",
              "</style>\n",
              "<table border=\"1\" class=\"dataframe\">\n",
              "  <thead>\n",
              "    <tr style=\"text-align: right;\">\n",
              "      <th></th>\n",
              "      <th>country</th>\n",
              "      <th>hotel</th>\n",
              "    </tr>\n",
              "  </thead>\n",
              "  <tbody>\n",
              "    <tr>\n",
              "      <th>0</th>\n",
              "      <td>PRT</td>\n",
              "      <td>27429</td>\n",
              "    </tr>\n",
              "    <tr>\n",
              "      <th>1</th>\n",
              "      <td>GBR</td>\n",
              "      <td>10431</td>\n",
              "    </tr>\n",
              "    <tr>\n",
              "      <th>2</th>\n",
              "      <td>FRA</td>\n",
              "      <td>8835</td>\n",
              "    </tr>\n",
              "    <tr>\n",
              "      <th>3</th>\n",
              "      <td>ESP</td>\n",
              "      <td>7243</td>\n",
              "    </tr>\n",
              "    <tr>\n",
              "      <th>4</th>\n",
              "      <td>DEU</td>\n",
              "      <td>5385</td>\n",
              "    </tr>\n",
              "  </tbody>\n",
              "</table>\n",
              "</div>\n",
              "      <button class=\"colab-df-convert\" onclick=\"convertToInteractive('df-1b8354f7-10c0-404d-a7c6-2c95169c044f')\"\n",
              "              title=\"Convert this dataframe to an interactive table.\"\n",
              "              style=\"display:none;\">\n",
              "        \n",
              "  <svg xmlns=\"http://www.w3.org/2000/svg\" height=\"24px\"viewBox=\"0 0 24 24\"\n",
              "       width=\"24px\">\n",
              "    <path d=\"M0 0h24v24H0V0z\" fill=\"none\"/>\n",
              "    <path d=\"M18.56 5.44l.94 2.06.94-2.06 2.06-.94-2.06-.94-.94-2.06-.94 2.06-2.06.94zm-11 1L8.5 8.5l.94-2.06 2.06-.94-2.06-.94L8.5 2.5l-.94 2.06-2.06.94zm10 10l.94 2.06.94-2.06 2.06-.94-2.06-.94-.94-2.06-.94 2.06-2.06.94z\"/><path d=\"M17.41 7.96l-1.37-1.37c-.4-.4-.92-.59-1.43-.59-.52 0-1.04.2-1.43.59L10.3 9.45l-7.72 7.72c-.78.78-.78 2.05 0 2.83L4 21.41c.39.39.9.59 1.41.59.51 0 1.02-.2 1.41-.59l7.78-7.78 2.81-2.81c.8-.78.8-2.07 0-2.86zM5.41 20L4 18.59l7.72-7.72 1.47 1.35L5.41 20z\"/>\n",
              "  </svg>\n",
              "      </button>\n",
              "      \n",
              "  <style>\n",
              "    .colab-df-container {\n",
              "      display:flex;\n",
              "      flex-wrap:wrap;\n",
              "      gap: 12px;\n",
              "    }\n",
              "\n",
              "    .colab-df-convert {\n",
              "      background-color: #E8F0FE;\n",
              "      border: none;\n",
              "      border-radius: 50%;\n",
              "      cursor: pointer;\n",
              "      display: none;\n",
              "      fill: #1967D2;\n",
              "      height: 32px;\n",
              "      padding: 0 0 0 0;\n",
              "      width: 32px;\n",
              "    }\n",
              "\n",
              "    .colab-df-convert:hover {\n",
              "      background-color: #E2EBFA;\n",
              "      box-shadow: 0px 1px 2px rgba(60, 64, 67, 0.3), 0px 1px 3px 1px rgba(60, 64, 67, 0.15);\n",
              "      fill: #174EA6;\n",
              "    }\n",
              "\n",
              "    [theme=dark] .colab-df-convert {\n",
              "      background-color: #3B4455;\n",
              "      fill: #D2E3FC;\n",
              "    }\n",
              "\n",
              "    [theme=dark] .colab-df-convert:hover {\n",
              "      background-color: #434B5C;\n",
              "      box-shadow: 0px 1px 3px 1px rgba(0, 0, 0, 0.15);\n",
              "      filter: drop-shadow(0px 1px 2px rgba(0, 0, 0, 0.3));\n",
              "      fill: #FFFFFF;\n",
              "    }\n",
              "  </style>\n",
              "\n",
              "      <script>\n",
              "        const buttonEl =\n",
              "          document.querySelector('#df-1b8354f7-10c0-404d-a7c6-2c95169c044f button.colab-df-convert');\n",
              "        buttonEl.style.display =\n",
              "          google.colab.kernel.accessAllowed ? 'block' : 'none';\n",
              "\n",
              "        async function convertToInteractive(key) {\n",
              "          const element = document.querySelector('#df-1b8354f7-10c0-404d-a7c6-2c95169c044f');\n",
              "          const dataTable =\n",
              "            await google.colab.kernel.invokeFunction('convertToInteractive',\n",
              "                                                     [key], {});\n",
              "          if (!dataTable) return;\n",
              "\n",
              "          const docLinkHtml = 'Like what you see? Visit the ' +\n",
              "            '<a target=\"_blank\" href=https://colab.research.google.com/notebooks/data_table.ipynb>data table notebook</a>'\n",
              "            + ' to learn more about interactive tables.';\n",
              "          element.innerHTML = '';\n",
              "          dataTable['output_type'] = 'display_data';\n",
              "          await google.colab.output.renderOutput(dataTable, element);\n",
              "          const docLink = document.createElement('div');\n",
              "          docLink.innerHTML = docLinkHtml;\n",
              "          element.appendChild(docLink);\n",
              "        }\n",
              "      </script>\n",
              "    </div>\n",
              "  </div>\n",
              "  "
            ]
          },
          "metadata": {},
          "execution_count": 105
        }
      ]
    },
    {
      "cell_type": "code",
      "source": [
        "#plot top 10 countries where most number of guests are coming\n",
        "plt.figure(figsize=(8,6))\n",
        "sns.barplot(x=hb['country'].value_counts().keys()[:6],y=hb['country'].value_counts()[:6],palette = 'mako')\n",
        "plt.xlabel('Country')\n",
        "plt.ylabel('Number of guests')\n",
        "plt.title('Number of guests from different Countries (Top6)');"
      ],
      "metadata": {
        "colab": {
          "base_uri": "https://localhost:8080/",
          "height": 404
        },
        "id": "1Bx5bZ74QoQb",
        "outputId": "3358eb7b-6826-4c4f-a296-db174fde9825"
      },
      "execution_count": null,
      "outputs": [
        {
          "output_type": "display_data",
          "data": {
            "text/plain": [
              "<Figure size 576x432 with 1 Axes>"
            ],
            "image/png": "[encoded data removed]"
          },
          "metadata": {
            "needs_background": "light"
          }
        }
      ]
    },
    {
      "cell_type": "markdown",
      "source": [
        "# **PORTUGAL(PRT) had the Most Number of Bookings with 48,590 Bookings, Out of which 30,960 are City hotel bookings and 17,630 are Resort hotel Bookings**"
      ],
      "metadata": {
        "id": "zmjYB6zOlDJN"
      }
    }
  ]
}